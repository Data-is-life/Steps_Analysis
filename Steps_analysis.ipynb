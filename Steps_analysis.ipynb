{
 "cells": [
  {
   "cell_type": "markdown",
   "metadata": {},
   "source": [
    "# Steps Analysis (02/17/17 - 10/24/18)"
   ]
  },
  {
   "cell_type": "code",
   "execution_count": null,
   "metadata": {
    "ExecuteTime": {
     "end_time": "2018-11-05T23:40:57.752607Z",
     "start_time": "2018-11-05T23:40:57.731578Z"
    }
   },
   "outputs": [],
   "source": [
    "from main_clean_function import *\n",
    "import seaborn as sns\n",
    "import matplotlib.pyplot as plt\n",
    "%matplotlib inline"
   ]
  },
  {
   "cell_type": "code",
   "execution_count": null,
   "metadata": {
    "ExecuteTime": {
     "end_time": "2018-11-05T23:42:05.063964Z",
     "start_time": "2018-11-05T23:40:57.939640Z"
    }
   },
   "outputs": [],
   "source": [
    "df = main_clean_function('./data/export.xml')"
   ]
  },
  {
   "cell_type": "code",
   "execution_count": null,
   "metadata": {
    "ExecuteTime": {
     "end_time": "2018-11-05T23:42:05.090216Z",
     "start_time": "2018-11-05T23:42:05.067032Z"
    }
   },
   "outputs": [],
   "source": [
    "df.columns"
   ]
  },
  {
   "cell_type": "code",
   "execution_count": null,
   "metadata": {
    "ExecuteTime": {
     "end_time": "2018-11-05T23:42:05.142897Z",
     "start_time": "2018-11-05T23:42:05.095243Z"
    }
   },
   "outputs": [],
   "source": [
    "summed_df = df.groupby(by=['start_date', 'end_date']).sum()\n",
    "summed_df['steps_per_hour'] = summed_df['num_steps']/summed_df['duration']\n",
    "summed_df.reset_index(inplace=True)"
   ]
  },
  {
   "cell_type": "code",
   "execution_count": null,
   "metadata": {
    "ExecuteTime": {
     "end_time": "2018-11-05T23:42:05.161946Z",
     "start_time": "2018-11-05T23:42:05.147016Z"
    }
   },
   "outputs": [],
   "source": [
    "def drop_change_rename_df(df, x, col_rnm, drc=['start_time', 'end_time', 'source']):\n",
    "    df.drop(index=[range(x-1)], inplace=True).reset_index()\n",
    "    df['end_date'] = m_df['start_date'] - pd.Timedelta(x, unit='D')\n",
    "    df.rename(columns={'num_steps': col_rnm+'num_steps', 'duration': col_rnm+'duration'})\n",
    "    if type(drc) == list and len(drc) > 0:\n",
    "        df.drop(columns=drc)\n",
    "    return df"
   ]
  },
  {
   "cell_type": "code",
   "execution_count": null,
   "metadata": {
    "ExecuteTime": {
     "end_time": "2018-11-05T23:42:05.199655Z",
     "start_time": "2018-11-05T23:42:05.165051Z"
    }
   },
   "outputs": [],
   "source": [
    "def rolling_day_df(df, x):\n",
    "    m_df = df.rolling(x).mean()\n",
    "    md_df = df.rolling(x).median()\n",
    "    std_df = df.rolling(x).std()\n",
    "    s_df = df.rolling(x).sum()\n",
    "\n",
    "    m_df = drop_change_rename_df(m_df, x, 'mean_')\n",
    "    md_df = drop_change_rename_df(md_df, x, 'median_')\n",
    "    std_df = drop_change_rename_df(std_df, x, 'std_')\n",
    "    s_df = drop_change_rename_df(s_df, x, 'total_')\n",
    "    \n",
    "    merged_df = pd.merge(m_df, md_df, std_df, s_df)"
   ]
  },
  {
   "cell_type": "code",
   "execution_count": null,
   "metadata": {
    "ExecuteTime": {
     "end_time": "2018-11-05T23:42:05.224090Z",
     "start_time": "2018-11-05T23:42:05.201906Z"
    }
   },
   "outputs": [],
   "source": [
    "# rolling_day_df(summed_df, 30, mean)"
   ]
  },
  {
   "cell_type": "code",
   "execution_count": null,
   "metadata": {},
   "outputs": [],
   "source": []
  },
  {
   "cell_type": "code",
   "execution_count": null,
   "metadata": {
    "ExecuteTime": {
     "end_time": "2018-11-05T23:42:05.246051Z",
     "start_time": "2018-11-05T23:42:05.226018Z"
    }
   },
   "outputs": [],
   "source": [
    "# summed_df.rolling(30).std()"
   ]
  },
  {
   "cell_type": "code",
   "execution_count": null,
   "metadata": {
    "ExecuteTime": {
     "end_time": "2018-11-05T23:42:05.276901Z",
     "start_time": "2018-11-05T23:42:05.248619Z"
    }
   },
   "outputs": [],
   "source": [
    "# summed_df.rolling(7).std().min()"
   ]
  },
  {
   "cell_type": "code",
   "execution_count": null,
   "metadata": {
    "ExecuteTime": {
     "end_time": "2018-11-05T23:42:05.335546Z",
     "start_time": "2018-11-05T23:42:05.280512Z"
    },
    "scrolled": true
   },
   "outputs": [],
   "source": [
    "summed_df"
   ]
  },
  {
   "cell_type": "code",
   "execution_count": null,
   "metadata": {
    "ExecuteTime": {
     "end_time": "2018-11-05T23:42:05.386566Z",
     "start_time": "2018-11-05T23:42:05.342697Z"
    },
    "scrolled": false
   },
   "outputs": [],
   "source": [
    "summed_df.groupby(summed_df['start_date'].dt.strftime('%b%y'), sort=False).mean()"
   ]
  },
  {
   "cell_type": "code",
   "execution_count": null,
   "metadata": {
    "ExecuteTime": {
     "end_time": "2018-11-05T23:46:51.017009Z",
     "start_time": "2018-11-05T23:46:50.999672Z"
    }
   },
   "outputs": [],
   "source": [
    "summed_df.num_steps.std()"
   ]
  },
  {
   "cell_type": "code",
   "execution_count": null,
   "metadata": {
    "ExecuteTime": {
     "end_time": "2018-11-05T23:42:05.406734Z",
     "start_time": "2018-11-05T23:42:05.388869Z"
    }
   },
   "outputs": [],
   "source": [
    "print_remainder(df)"
   ]
  },
  {
   "cell_type": "code",
   "execution_count": null,
   "metadata": {
    "ExecuteTime": {
     "end_time": "2018-11-05T23:42:05.459238Z",
     "start_time": "2018-11-05T23:42:05.411146Z"
    },
    "scrolled": true
   },
   "outputs": [],
   "source": [
    "summed_df.tail(60)"
   ]
  },
  {
   "cell_type": "code",
   "execution_count": null,
   "metadata": {
    "ExecuteTime": {
     "end_time": "2018-11-02T23:27:51.713450Z",
     "start_time": "2018-11-02T23:27:51.697073Z"
    }
   },
   "outputs": [],
   "source": [
    "X = summed_df.start_date.values\n",
    "y = df.num_steps.values\n",
    "type(y)"
   ]
  },
  {
   "cell_type": "code",
   "execution_count": null,
   "metadata": {
    "ExecuteTime": {
     "end_time": "2018-11-02T23:32:14.772334Z",
     "start_time": "2018-11-02T23:32:14.528818Z"
    }
   },
   "outputs": [],
   "source": [
    "summed_df.plot(x='start_date', y='num_steps', kind='area')"
   ]
  },
  {
   "cell_type": "code",
   "execution_count": null,
   "metadata": {
    "ExecuteTime": {
     "end_time": "2018-11-03T00:52:43.355628Z",
     "start_time": "2018-11-03T00:52:43.333189Z"
    }
   },
   "outputs": [],
   "source": [
    "summed_df.min()"
   ]
  },
  {
   "cell_type": "code",
   "execution_count": null,
   "metadata": {},
   "outputs": [],
   "source": []
  }
 ],
 "metadata": {
  "kernelspec": {
   "display_name": "Python 3",
   "language": "python",
   "name": "python3"
  },
  "language_info": {
   "codemirror_mode": {
    "name": "ipython",
    "version": 3
   },
   "file_extension": ".py",
   "mimetype": "text/x-python",
   "name": "python",
   "nbconvert_exporter": "python",
   "pygments_lexer": "ipython3",
   "version": "3.6.6"
  },
  "latex_envs": {
   "LaTeX_envs_menu_present": true,
   "autoclose": false,
   "autocomplete": true,
   "bibliofile": "biblio.bib",
   "cite_by": "apalike",
   "current_citInitial": 1,
   "eqLabelWithNumbers": true,
   "eqNumInitial": 1,
   "hotkeys": {
    "equation": "Ctrl-E",
    "itemize": "Ctrl-I"
   },
   "labels_anchors": false,
   "latex_user_defs": false,
   "report_style_numbering": false,
   "user_envs_cfg": false
  }
 },
 "nbformat": 4,
 "nbformat_minor": 2
}
