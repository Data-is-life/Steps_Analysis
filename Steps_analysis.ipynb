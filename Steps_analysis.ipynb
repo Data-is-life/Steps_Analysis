{
 "cells": [
  {
   "cell_type": "markdown",
   "metadata": {},
   "source": [
    "# Steps Analysis (02/17/17 - 10/24/18)"
   ]
  },
  {
   "cell_type": "code",
   "execution_count": 1,
   "metadata": {
    "ExecuteTime": {
     "end_time": "2018-11-02T04:40:38.035814Z",
     "start_time": "2018-11-02T04:40:37.365755Z"
    }
   },
   "outputs": [],
   "source": [
    "import pandas as pd\n",
    "import seaborn as sns\n",
    "from bs4 import BeautifulSoup\n",
    "import ast\n",
    "from math import ceil\n",
    "from datetime import timedelta\n",
    "import numpy as np"
   ]
  },
  {
   "cell_type": "code",
   "execution_count": 2,
   "metadata": {
    "ExecuteTime": {
     "end_time": "2018-11-02T04:40:38.743277Z",
     "start_time": "2018-11-02T04:40:38.718119Z"
    }
   },
   "outputs": [],
   "source": [
    "steps_df = pd.DataFrame(columns=['start_date', 'end_date',\n",
    "                                 'num_steps', 'source'])\n",
    "start_date_col = []\n",
    "end_date_col = []\n",
    "num_steps_col = []\n",
    "source_col = []"
   ]
  },
  {
   "cell_type": "code",
   "execution_count": 3,
   "metadata": {
    "ExecuteTime": {
     "end_time": "2018-11-02T04:40:42.911919Z",
     "start_time": "2018-11-02T04:40:39.601018Z"
    }
   },
   "outputs": [],
   "source": [
    "with open('./data/export.xml') as fp:\n",
    "    soup = BeautifulSoup(fp, 'lxml-xml')"
   ]
  },
  {
   "cell_type": "code",
   "execution_count": 4,
   "metadata": {
    "ExecuteTime": {
     "end_time": "2018-11-02T04:40:44.568629Z",
     "start_time": "2018-11-02T04:40:43.523962Z"
    }
   },
   "outputs": [],
   "source": [
    "steps = soup.findAll('Record', {'type': 'HKQuantityTypeIdentifierStepCount'})\n",
    "for num in steps:\n",
    "    start_date_col.append(num['startDate'])\n",
    "    end_date_col.append(num['endDate'])\n",
    "    num_steps_col.append(num['value'])\n",
    "    source_col.append(num['sourceName'])"
   ]
  },
  {
   "cell_type": "code",
   "execution_count": 5,
   "metadata": {
    "ExecuteTime": {
     "end_time": "2018-11-02T04:40:44.607070Z",
     "start_time": "2018-11-02T04:40:44.570868Z"
    }
   },
   "outputs": [],
   "source": [
    "steps_df['start_date'] = start_date_col\n",
    "steps_df['end_date'] = end_date_col\n",
    "steps_df['num_steps'] = num_steps_col\n",
    "steps_df['source'] = source_col"
   ]
  },
  {
   "cell_type": "code",
   "execution_count": 6,
   "metadata": {
    "ExecuteTime": {
     "end_time": "2018-11-02T04:40:45.065608Z",
     "start_time": "2018-11-02T04:40:45.036266Z"
    }
   },
   "outputs": [],
   "source": [
    "steps_df['num_steps'] = steps_df.num_steps.astype(int)"
   ]
  },
  {
   "cell_type": "code",
   "execution_count": 7,
   "metadata": {
    "ExecuteTime": {
     "end_time": "2018-11-02T04:40:45.815520Z",
     "start_time": "2018-11-02T04:40:45.685307Z"
    }
   },
   "outputs": [],
   "source": [
    "sd_df = steps_df.start_date.str.split(' ', expand=True)\n",
    "sd_df.columns = ['start_date', 'start_time', 'time_zone']\n",
    "sd_df = sd_df.drop(columns=['time_zone'])\n",
    "sd_df['start_date'] = pd.to_datetime(sd_df['start_date'], format='%Y/%m/%d')\n",
    "sd_df['start_time'] = pd.to_timedelta(sd_df['start_time'])"
   ]
  },
  {
   "cell_type": "code",
   "execution_count": 8,
   "metadata": {
    "ExecuteTime": {
     "end_time": "2018-11-02T04:40:46.506763Z",
     "start_time": "2018-11-02T04:40:46.232098Z"
    }
   },
   "outputs": [],
   "source": [
    "ed_df = steps_df.end_date.str.split(' ', expand=True)\n",
    "ed_df.columns = ['end_date', 'end_time', 'time_zone']\n",
    "ed_df = ed_df.drop(columns=['time_zone'])\n",
    "ed_df['end_date'] = pd.to_datetime(ed_df['end_date'], format='%Y/%m/%d')\n",
    "ed_df['end_time'] = pd.to_timedelta(ed_df['end_time'])"
   ]
  },
  {
   "cell_type": "code",
   "execution_count": 9,
   "metadata": {
    "ExecuteTime": {
     "end_time": "2018-11-02T04:40:46.907087Z",
     "start_time": "2018-11-02T04:40:46.887883Z"
    }
   },
   "outputs": [],
   "source": [
    "steps_df = steps_df.drop(columns=['start_date', 'end_date'])"
   ]
  },
  {
   "cell_type": "code",
   "execution_count": 10,
   "metadata": {
    "ExecuteTime": {
     "end_time": "2018-11-02T04:40:47.555116Z",
     "start_time": "2018-11-02T04:40:47.520816Z"
    }
   },
   "outputs": [],
   "source": [
    "dur_df = pd.concat([sd_df, ed_df], axis=1)\n",
    "dur_df['sdt'] = dur_df['start_date'] + dur_df['start_time']\n",
    "dur_df['edt'] = dur_df['end_date'] + dur_df['end_time']\n",
    "dur_df['duration'] = dur_df['edt'] - dur_df['sdt']\n",
    "dur_df = dur_df.drop(columns=['sdt', 'edt'])"
   ]
  },
  {
   "cell_type": "code",
   "execution_count": 35,
   "metadata": {
    "ExecuteTime": {
     "end_time": "2018-11-02T04:45:11.497476Z",
     "start_time": "2018-11-02T04:45:11.476678Z"
    }
   },
   "outputs": [],
   "source": [
    "df = pd.concat([steps_df, dur_df], axis=1)"
   ]
  },
  {
   "cell_type": "code",
   "execution_count": 36,
   "metadata": {
    "ExecuteTime": {
     "end_time": "2018-11-02T04:45:11.696733Z",
     "start_time": "2018-11-02T04:45:11.674427Z"
    }
   },
   "outputs": [],
   "source": [
    "df = df[['start_date', 'start_time', 'end_date',\n",
    "         'end_time', 'num_steps', 'duration', 'source']]"
   ]
  },
  {
   "cell_type": "code",
   "execution_count": 37,
   "metadata": {
    "ExecuteTime": {
     "end_time": "2018-11-02T04:45:12.073044Z",
     "start_time": "2018-11-02T04:45:11.866002Z"
    }
   },
   "outputs": [
    {
     "name": "stdout",
     "output_type": "stream",
     "text": [
      "Total Rows = 27755\n",
      "Total Steps = 4952676\n",
      "start_date != end_date: 144\n"
     ]
    }
   ],
   "source": [
    "df.sort_values(by=['start_date', 'start_time'], inplace=True)\n",
    "print(f'Total Rows = {len(df)}')\n",
    "print(f'Total Steps = {df.num_steps.sum()}')\n",
    "print(f\"start_date != end_date: {len(df[df['start_date']!=df['end_date']])}\")"
   ]
  },
  {
   "cell_type": "code",
   "execution_count": 38,
   "metadata": {
    "ExecuteTime": {
     "end_time": "2018-11-02T04:45:12.093744Z",
     "start_time": "2018-11-02T04:45:12.075164Z"
    },
    "scrolled": true
   },
   "outputs": [],
   "source": [
    "df['start_time'] = pd.to_numeric(df['start_time'])/3600000000000\n",
    "df['end_time'] = pd.to_numeric(df['end_time'])/3600000000000\n",
    "df['duration'] = pd.to_numeric(df['duration'])/3600000000000"
   ]
  },
  {
   "cell_type": "code",
   "execution_count": 39,
   "metadata": {
    "ExecuteTime": {
     "end_time": "2018-11-02T04:45:12.424918Z",
     "start_time": "2018-11-02T04:45:12.212764Z"
    }
   },
   "outputs": [
    {
     "name": "stdout",
     "output_type": "stream",
     "text": [
      "Total Rows = 27660\n",
      "Total Steps = 4952676\n",
      "start_date != end_date: 139\n"
     ]
    }
   ],
   "source": [
    "df = df[df['num_steps'] > 0]\n",
    "df.reset_index(inplace=True)\n",
    "df.drop(columns=['index'], inplace=True)\n",
    "print(f'Total Rows = {len(df)}')\n",
    "print(f'Total Steps = {df.num_steps.sum()}')\n",
    "print(f\"start_date != end_date: {len(df[df['start_date']!=df['end_date']])}\")"
   ]
  },
  {
   "cell_type": "code",
   "execution_count": 40,
   "metadata": {
    "ExecuteTime": {
     "end_time": "2018-11-02T04:45:27.990776Z",
     "start_time": "2018-11-02T04:45:12.584402Z"
    }
   },
   "outputs": [
    {
     "name": "stdout",
     "output_type": "stream",
     "text": [
      "Total Rows = 25171\n",
      "Total Steps = 4647445\n",
      "start_date != end_date: 139\n"
     ]
    }
   ],
   "source": [
    "i = 0\n",
    "while i < len(df)-1:\n",
    "    if (df.start_time[i] <= df.start_time[i+1]) and (\n",
    "            df.end_time[i] >= df.end_time[i+1]) and (\n",
    "            df.start_date[i] == df.end_date[i+1]):\n",
    "\n",
    "        df.drop(index=(i+1), inplace=True)\n",
    "        df.reset_index(inplace=True)\n",
    "        df.drop(columns=['index'], inplace=True)\n",
    "\n",
    "    else:\n",
    "        i += 1\n",
    "\n",
    "print(f'Total Rows = {len(df)}')\n",
    "print(f'Total Steps = {df.num_steps.sum()}')\n",
    "print(f\"start_date != end_date: {len(df[df['start_date']!=df['end_date']])}\")"
   ]
  },
  {
   "cell_type": "code",
   "execution_count": 41,
   "metadata": {
    "ExecuteTime": {
     "end_time": "2018-11-02T04:45:34.555517Z",
     "start_time": "2018-11-02T04:45:27.992935Z"
    }
   },
   "outputs": [
    {
     "name": "stdout",
     "output_type": "stream",
     "text": [
      "Total Rows = 25171\n",
      "Total Steps = 4159537.0\n",
      "start_date != end_date: 139\n"
     ]
    }
   ],
   "source": [
    "i = 0\n",
    "while i < len(df)-1:\n",
    "    if (df.start_date[i] == df.end_date[i]) and (\n",
    "            df.start_date[i] == df.end_date[i+1]) and (\n",
    "            df.start_time[i+1] < df.end_time[i]) and (\n",
    "            df.end_time[i+1] > df.end_time[i]):\n",
    "\n",
    "        steps_per_hour = df.num_steps[i+1] / (df.end_time[i+1] - df.start_time[i+1])\n",
    "\n",
    "        steps_adjust = (df.end_time[i] - df.start_time[i+1]) * steps_per_hour\n",
    "\n",
    "        steps_adjust = round(steps_adjust)\n",
    "\n",
    "        df.loc[(i+1), 'num_steps'] = steps_adjust\n",
    "        df.loc[(i+1), 'start_time'] = df.end_time[i]\n",
    "        df.loc[(i+1), 'duration'] = df.end_time[i+1] - df.start_time[i+1]\n",
    "        df.loc[i, 'duration'] = df.end_time[i] - df.start_time[i]\n",
    "\n",
    "        if df.num_steps[i+1] <= -1.0e-2:\n",
    "            df.drop(index=(i+1), inplace=True)\n",
    "            df.reset_index(inplace=True)\n",
    "            df.drop(columns=['index'], inplace=True)\n",
    "\n",
    "        else:\n",
    "            i += 1\n",
    "\n",
    "    else:\n",
    "        i += 1\n",
    "\n",
    "df.reset_index(inplace=True)\n",
    "df.drop(columns=['index'], inplace=True)\n",
    "\n",
    "print(f'Total Rows = {len(df)}')\n",
    "print(f'Total Steps = {df.num_steps.sum()}')\n",
    "print(f\"start_date != end_date: {len(df[df['start_date']!=df['end_date']])}\")"
   ]
  },
  {
   "cell_type": "code",
   "execution_count": 42,
   "metadata": {
    "ExecuteTime": {
     "end_time": "2018-11-02T04:45:51.133008Z",
     "start_time": "2018-11-02T04:45:51.115169Z"
    }
   },
   "outputs": [],
   "source": [
    "df['duration'] = np.where(df['start_date'] == df['end_date'],\n",
    "                          (df['end_time'] - df['start_time']),\n",
    "                          df['duration'])"
   ]
  },
  {
   "cell_type": "code",
   "execution_count": 43,
   "metadata": {
    "ExecuteTime": {
     "end_time": "2018-11-02T04:45:53.443971Z",
     "start_time": "2018-11-02T04:45:53.253046Z"
    }
   },
   "outputs": [
    {
     "name": "stdout",
     "output_type": "stream",
     "text": [
      "Total Rows = 25170\n",
      "Total Steps = 4159521.0\n",
      "start_date != end_date: 139\n"
     ]
    }
   ],
   "source": [
    "df = df[df['duration'] >= 1.0e-4]\n",
    "df.reset_index(inplace=True)\n",
    "df.drop(columns=['index'], inplace=True)\n",
    "print(f'Total Rows = {len(df)}')\n",
    "print(f'Total Steps = {df.num_steps.sum()}')\n",
    "print(f\"start_date != end_date: {len(df[df['start_date']!=df['end_date']])}\")"
   ]
  },
  {
   "cell_type": "code",
   "execution_count": 46,
   "metadata": {
    "ExecuteTime": {
     "end_time": "2018-11-02T04:48:11.894268Z",
     "start_time": "2018-11-02T04:48:11.186923Z"
    }
   },
   "outputs": [
    {
     "name": "stdout",
     "output_type": "stream",
     "text": [
      "Total Rows = 659\n",
      "Total Steps = 4159521.0\n",
      "start_date != end_date: 0\n"
     ]
    }
   ],
   "source": [
    "i = 0\n",
    "\n",
    "while i < len(df)-1:\n",
    "    if (df.start_date[i] == df.end_date[i]) and (\n",
    "            df.start_date[i] == df.end_date[i+1]) and (\n",
    "            (df.end_time[i] - df.start_time[i+1]) <= 1.0e-5):\n",
    "\n",
    "        df.loc[i, 'end_time'] = df.end_time[i+1]\n",
    "        df.loc[i, 'num_steps'] = df.num_steps[i] + df.num_steps[i+1]\n",
    "\n",
    "        df.drop(index=(i+1), inplace=True)\n",
    "        df.reset_index(inplace=True)\n",
    "        df.drop(columns=['index'], inplace=True)\n",
    "\n",
    "    else:\n",
    "        i += 1\n",
    "\n",
    "print(f'Total Rows = {len(df)}')\n",
    "print(f'Total Steps = {df.num_steps.sum()}')\n",
    "print(f\"start_date != end_date: {len(df[df['start_date']!=df['end_date']])}\")"
   ]
  },
  {
   "cell_type": "code",
   "execution_count": null,
   "metadata": {
    "ExecuteTime": {
     "end_time": "2018-11-02T04:13:01.124218Z",
     "start_time": "2018-11-02T04:13:01.106512Z"
    }
   },
   "outputs": [],
   "source": [
    "df.columns"
   ]
  },
  {
   "cell_type": "code",
   "execution_count": null,
   "metadata": {
    "ExecuteTime": {
     "end_time": "2018-11-02T04:13:02.040314Z",
     "start_time": "2018-11-02T04:13:01.964403Z"
    }
   },
   "outputs": [],
   "source": [
    "i = 0\n",
    "while i < len(df)-1:\n",
    "    if (df.end_date[i] - pd.Timedelta(86400000000000) == df.start_date[i]) and (\n",
    "            df.duration[i] <= 1.0):\n",
    "\n",
    "        st_dt, st_tm, end_dt, end_tm, num_st, dur, sauce = df.iloc[i]\n",
    "\n",
    "        steps_per_hour = num_st / (end_tm + (24.0 - st_tm))\n",
    "\n",
    "        dur_1 = round(steps_per_hour * (24.0 - st_tm))\n",
    "        dur_2 = round(steps_per_hour * end_tm)\n",
    "\n",
    "        df.loc[i+.1] = [end_dt, 0.0, end_dt, end_tm,\n",
    "                        dur_1, end_tm, sauce]\n",
    "\n",
    "        df.loc[i] = [st_dt, st_tm, st_dt, 24.0,\n",
    "                     dur_2, (24.0 - st_tm), sauce]\n",
    "\n",
    "        df.reset_index(inplace=True)\n",
    "        df.drop(columns=['index'], inplace=True)\n",
    "\n",
    "        i += 1\n",
    "    else:\n",
    "        i += 1\n",
    "\n",
    "df.sort_values(by=['start_date', 'start_time'], inplace=True)\n",
    "print(f'Total Rows = {len(df)}')\n",
    "print(f'Total Steps = {df.num_steps.sum()}')\n",
    "print(f\"start_date != end_date: {len(df[df['start_date']!=df['end_date']])}\")"
   ]
  },
  {
   "cell_type": "code",
   "execution_count": 47,
   "metadata": {
    "ExecuteTime": {
     "end_time": "2018-11-02T04:48:16.450484Z",
     "start_time": "2018-11-02T04:48:16.318597Z"
    }
   },
   "outputs": [
    {
     "name": "stdout",
     "output_type": "stream",
     "text": [
      "Total Rows = 659\n",
      "Total Steps = 4159521.0\n",
      "start_date != end_date: 0\n"
     ]
    }
   ],
   "source": [
    "i = 0\n",
    "while i < len(df)-1:\n",
    "    if (df.end_date[i] - pd.Timedelta(1, unit='D') == df.start_date[i]):\n",
    "\n",
    "        st_dt, st_tm, end_dt, end_tm, num_st, dur, sauce = df.iloc[i]\n",
    "\n",
    "        steps_per_hour = num_st / (end_tm + (24.0 - st_tm))\n",
    "\n",
    "        dur_1 = round(steps_per_hour * (24.0 - st_tm))\n",
    "        dur_2 = round(steps_per_hour * end_tm)\n",
    "\n",
    "        df.loc[i+.1] = [end_dt, 0.0, end_dt, end_tm,\n",
    "                        dur_1, end_tm, sauce]\n",
    "\n",
    "        df.loc[i] = [st_dt, st_tm, st_dt, 24.0,\n",
    "                     dur_2, (24.0 - st_tm), sauce]\n",
    "\n",
    "        df.reset_index(inplace=True)\n",
    "        df.drop(columns=['index'], inplace=True)\n",
    "\n",
    "        i += 1\n",
    "        \n",
    "    elif (df.end_date[i] - pd.Timedelta(2, unit='D') == df.start_date[i]):\n",
    "\n",
    "        st_dt, st_tm, end_dt, end_tm, num_st, dur, sauce = df.iloc[i]\n",
    "\n",
    "        steps_per_hour = num_st / (end_tm + 24.0 + (24.0 - st_tm))\n",
    "\n",
    "        dur_1 = round(steps_per_hour * (24.0 - st_tm))\n",
    "        dur_2 = round(steps_per_hour * 24.0)\n",
    "        dur_3 = round(steps_per_hour * end_tm)\n",
    "        \n",
    "        dt_2 = end_dt - pd.Timedelta(1, unit='D')\n",
    "\n",
    "        df.loc[i+.1] = [dt_2, 0.0, dt_2, 24.0,\n",
    "                        dur_2, 24.0, sauce]\n",
    "        \n",
    "        df.loc[i+.2] = [end_dt, 0.0, end_dt, end_tm,\n",
    "                        dur_3, end_tm, sauce]\n",
    "\n",
    "        df.loc[i] = [st_dt, st_tm, st_dt, 24.0,\n",
    "                     dur_1, (24.0 - st_tm), sauce]\n",
    "\n",
    "        df.reset_index(inplace=True)\n",
    "        df.drop(columns=['index'], inplace=True)\n",
    "\n",
    "        i += 1\n",
    "    else:\n",
    "        i += 1\n",
    "\n",
    "df.sort_values(by=['start_date', 'start_time'], inplace=True)\n",
    "\n",
    "df.reset_index(inplace=True)\n",
    "df.drop(columns=['index'], inplace=True)\n",
    "print(f'Total Rows = {len(df)}')\n",
    "print(f'Total Steps = {df.num_steps.sum()}')\n",
    "print(f\"start_date != end_date: {len(df[df['start_date']!=df['end_date']])}\")"
   ]
  },
  {
   "cell_type": "code",
   "execution_count": 51,
   "metadata": {
    "ExecuteTime": {
     "end_time": "2018-11-02T04:49:18.125456Z",
     "start_time": "2018-11-02T04:49:18.106174Z"
    }
   },
   "outputs": [
    {
     "data": {
      "text/plain": [
       "45"
      ]
     },
     "execution_count": 51,
     "metadata": {},
     "output_type": "execute_result"
    }
   ],
   "source": [
    "659-df.start_date.nunique()"
   ]
  },
  {
   "cell_type": "code",
   "execution_count": null,
   "metadata": {
    "ExecuteTime": {
     "end_time": "2018-11-02T03:08:18.032827Z",
     "start_time": "2018-11-02T02:59:07.978Z"
    }
   },
   "outputs": [],
   "source": [
    "df['steps_per_hour'] = df['num_steps']/df['duration']"
   ]
  },
  {
   "cell_type": "code",
   "execution_count": null,
   "metadata": {
    "ExecuteTime": {
     "end_time": "2018-11-02T03:08:18.034670Z",
     "start_time": "2018-11-02T02:59:08.439Z"
    }
   },
   "outputs": [],
   "source": [
    "df[df['start_date'] == '2018-10-19']"
   ]
  },
  {
   "cell_type": "code",
   "execution_count": null,
   "metadata": {
    "ExecuteTime": {
     "end_time": "2018-11-02T04:15:54.880392Z",
     "start_time": "2018-11-02T04:15:54.852868Z"
    }
   },
   "outputs": [],
   "source": [
    "summed_df = df.groupby(by=['start_date', 'end_date']).sum()"
   ]
  },
  {
   "cell_type": "code",
   "execution_count": null,
   "metadata": {
    "ExecuteTime": {
     "end_time": "2018-11-02T04:15:55.827374Z",
     "start_time": "2018-11-02T04:15:55.797781Z"
    }
   },
   "outputs": [],
   "source": [
    "summed_df.tail(60)"
   ]
  },
  {
   "cell_type": "code",
   "execution_count": null,
   "metadata": {
    "ExecuteTime": {
     "end_time": "2018-11-02T04:16:07.168728Z",
     "start_time": "2018-11-02T04:16:07.138558Z"
    }
   },
   "outputs": [],
   "source": [
    "summed_df[summed_df['duration'] >= 24]"
   ]
  },
  {
   "cell_type": "code",
   "execution_count": null,
   "metadata": {},
   "outputs": [],
   "source": []
  }
 ],
 "metadata": {
  "kernelspec": {
   "display_name": "Python 3",
   "language": "python",
   "name": "python3"
  },
  "language_info": {
   "codemirror_mode": {
    "name": "ipython",
    "version": 3
   },
   "file_extension": ".py",
   "mimetype": "text/x-python",
   "name": "python",
   "nbconvert_exporter": "python",
   "pygments_lexer": "ipython3",
   "version": "3.6.6"
  }
 },
 "nbformat": 4,
 "nbformat_minor": 2
}
