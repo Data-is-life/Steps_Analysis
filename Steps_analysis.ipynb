{
 "cells": [
  {
   "cell_type": "markdown",
   "metadata": {},
   "source": [
    "# Steps Analysis (02/17/17 - 10/24/18)"
   ]
  },
  {
   "cell_type": "code",
   "execution_count": 1,
   "metadata": {
    "ExecuteTime": {
     "end_time": "2018-11-02T02:24:07.571896Z",
     "start_time": "2018-11-02T02:24:06.673747Z"
    }
   },
   "outputs": [],
   "source": [
    "import pandas as pd\n",
    "import seaborn as sns\n",
    "from bs4 import BeautifulSoup\n",
    "import ast\n",
    "from math import ceil\n",
    "from datetime import timedelta\n",
    "import numpy as np"
   ]
  },
  {
   "cell_type": "code",
   "execution_count": 3,
   "metadata": {
    "ExecuteTime": {
     "end_time": "2018-11-02T02:29:25.452587Z",
     "start_time": "2018-11-02T02:29:25.423614Z"
    }
   },
   "outputs": [],
   "source": [
    "steps_df = pd.DataFrame(columns=['start_date', 'end_date',\n",
    "                                 'num_steps', 'source'])\n",
    "start_date_col = []\n",
    "end_date_col = []\n",
    "num_steps_col = []\n",
    "source_col = []"
   ]
  },
  {
   "cell_type": "code",
   "execution_count": 4,
   "metadata": {
    "ExecuteTime": {
     "end_time": "2018-11-02T02:29:29.668462Z",
     "start_time": "2018-11-02T02:29:26.250683Z"
    }
   },
   "outputs": [],
   "source": [
    "with open('./data/export.xml') as fp:\n",
    "    soup = BeautifulSoup(fp, 'lxml-xml')"
   ]
  },
  {
   "cell_type": "code",
   "execution_count": 5,
   "metadata": {
    "ExecuteTime": {
     "end_time": "2018-11-02T02:29:31.506023Z",
     "start_time": "2018-11-02T02:29:30.445878Z"
    }
   },
   "outputs": [],
   "source": [
    "steps = soup.findAll('Record', {'type': 'HKQuantityTypeIdentifierStepCount'})\n",
    "for num in steps:\n",
    "    start_date_col.append(num['startDate'])\n",
    "    end_date_col.append(num['endDate'])\n",
    "    num_steps_col.append(num['value'])\n",
    "    source_col.append(num['sourceName'])"
   ]
  },
  {
   "cell_type": "code",
   "execution_count": 6,
   "metadata": {
    "ExecuteTime": {
     "end_time": "2018-11-02T02:29:33.239011Z",
     "start_time": "2018-11-02T02:29:33.199467Z"
    }
   },
   "outputs": [],
   "source": [
    "steps_df['start_date'] = start_date_col\n",
    "steps_df['end_date'] = end_date_col\n",
    "steps_df['num_steps'] = num_steps_col\n",
    "steps_df['source'] = source_col"
   ]
  },
  {
   "cell_type": "code",
   "execution_count": 7,
   "metadata": {
    "ExecuteTime": {
     "end_time": "2018-11-02T02:29:34.000524Z",
     "start_time": "2018-11-02T02:29:33.972900Z"
    }
   },
   "outputs": [],
   "source": [
    "steps_df['num_steps'] = steps_df.num_steps.astype(int)"
   ]
  },
  {
   "cell_type": "code",
   "execution_count": 8,
   "metadata": {
    "ExecuteTime": {
     "end_time": "2018-11-02T02:29:34.647004Z",
     "start_time": "2018-11-02T02:29:34.516539Z"
    }
   },
   "outputs": [],
   "source": [
    "sd_df = steps_df.start_date.str.split(' ', expand=True)\n",
    "sd_df.columns = ['start_date', 'start_time', 'time_zone']\n",
    "sd_df = sd_df.drop(columns=['time_zone'])\n",
    "sd_df['start_date'] = pd.to_datetime(sd_df['start_date'], format='%Y/%m/%d')\n",
    "sd_df['start_time'] = pd.to_timedelta(sd_df['start_time'])"
   ]
  },
  {
   "cell_type": "code",
   "execution_count": 9,
   "metadata": {
    "ExecuteTime": {
     "end_time": "2018-11-02T02:29:35.242735Z",
     "start_time": "2018-11-02T02:29:35.117020Z"
    }
   },
   "outputs": [],
   "source": [
    "ed_df = steps_df.end_date.str.split(' ', expand=True)\n",
    "ed_df.columns = ['end_date', 'end_time', 'time_zone']\n",
    "ed_df = ed_df.drop(columns=['time_zone'])\n",
    "ed_df['end_date'] = pd.to_datetime(ed_df['end_date'], format='%Y/%m/%d')\n",
    "ed_df['end_time'] = pd.to_timedelta(ed_df['end_time'])"
   ]
  },
  {
   "cell_type": "code",
   "execution_count": 10,
   "metadata": {
    "ExecuteTime": {
     "end_time": "2018-11-02T02:29:35.578378Z",
     "start_time": "2018-11-02T02:29:35.561381Z"
    }
   },
   "outputs": [],
   "source": [
    "steps_df = steps_df.drop(columns=['start_date', 'end_date'])"
   ]
  },
  {
   "cell_type": "code",
   "execution_count": 11,
   "metadata": {
    "ExecuteTime": {
     "end_time": "2018-11-02T02:29:36.037652Z",
     "start_time": "2018-11-02T02:29:36.013234Z"
    }
   },
   "outputs": [],
   "source": [
    "dur_df = pd.concat([sd_df, ed_df], axis=1)\n",
    "dur_df['sdt'] = dur_df['start_date'] + dur_df['start_time']\n",
    "dur_df['edt'] = dur_df['end_date'] + dur_df['end_time']\n",
    "dur_df['duration'] = dur_df['edt'] - dur_df['sdt']\n",
    "dur_df = dur_df.drop(columns=['sdt', 'edt'])"
   ]
  },
  {
   "cell_type": "code",
   "execution_count": 104,
   "metadata": {
    "ExecuteTime": {
     "end_time": "2018-11-02T03:10:21.964035Z",
     "start_time": "2018-11-02T03:10:21.942736Z"
    }
   },
   "outputs": [],
   "source": [
    "df = pd.concat([steps_df, dur_df], axis=1)"
   ]
  },
  {
   "cell_type": "code",
   "execution_count": 105,
   "metadata": {
    "ExecuteTime": {
     "end_time": "2018-11-02T03:10:22.313897Z",
     "start_time": "2018-11-02T03:10:22.295078Z"
    }
   },
   "outputs": [],
   "source": [
    "df = df[['start_date', 'start_time', 'end_date',\n",
    "         'end_time', 'num_steps', 'duration', 'source']]"
   ]
  },
  {
   "cell_type": "code",
   "execution_count": 106,
   "metadata": {
    "ExecuteTime": {
     "end_time": "2018-11-02T03:10:22.885388Z",
     "start_time": "2018-11-02T03:10:22.627544Z"
    }
   },
   "outputs": [
    {
     "name": "stdout",
     "output_type": "stream",
     "text": [
      "27755\n",
      "4952676\n"
     ]
    }
   ],
   "source": [
    "df.sort_values(by=['start_date', 'start_time'], inplace=True)\n",
    "print(len(df))\n",
    "print(df.num_steps.sum())"
   ]
  },
  {
   "cell_type": "code",
   "execution_count": 107,
   "metadata": {
    "ExecuteTime": {
     "end_time": "2018-11-02T03:10:23.345755Z",
     "start_time": "2018-11-02T03:10:23.094226Z"
    },
    "scrolled": true
   },
   "outputs": [
    {
     "name": "stdout",
     "output_type": "stream",
     "text": [
      "27660\n",
      "4952676\n"
     ]
    }
   ],
   "source": [
    "df['start_time'] = pd.to_numeric(df['start_time'])/3600000000000\n",
    "df['end_time'] = pd.to_numeric(df['end_time'])/3600000000000\n",
    "df['duration'] = pd.to_numeric(df['duration'])/3600000000000\n",
    "df = df[df['num_steps']>0]\n",
    "df.reset_index(inplace=True)\n",
    "df.drop(columns=['index'], inplace=True)\n",
    "print(len(df))\n",
    "print(df.num_steps.sum())"
   ]
  },
  {
   "cell_type": "code",
   "execution_count": 108,
   "metadata": {
    "ExecuteTime": {
     "end_time": "2018-11-02T03:10:43.172443Z",
     "start_time": "2018-11-02T03:10:24.098708Z"
    }
   },
   "outputs": [
    {
     "name": "stdout",
     "output_type": "stream",
     "text": [
      "25197\n",
      "4651794\n"
     ]
    }
   ],
   "source": [
    "i = 0\n",
    "while i < len(df)-2:\n",
    "    if (df.source[i] != df.source[i+1]) and (\n",
    "            df.start_time[i] <= df.start_time[i+1]) and (\n",
    "            df.end_time[i] >= df.end_time[i+1]) and (\n",
    "            df.end_date[i] == df.end_date[i+1]):\n",
    "\n",
    "        df.drop(index=(i+1), inplace=True)\n",
    "        df.reset_index(inplace=True)\n",
    "        df.drop(columns=['index'], inplace=True)\n",
    "\n",
    "    else:\n",
    "        i += 1\n",
    "\n",
    "print(len(df))\n",
    "print(df.num_steps.sum())"
   ]
  },
  {
   "cell_type": "code",
   "execution_count": 109,
   "metadata": {
    "ExecuteTime": {
     "end_time": "2018-11-02T03:11:35.216061Z",
     "start_time": "2018-11-02T03:11:28.008517Z"
    }
   },
   "outputs": [
    {
     "name": "stdout",
     "output_type": "stream",
     "text": [
      "25197\n",
      "3909848\n"
     ]
    }
   ],
   "source": [
    "i = 0\n",
    "while i < len(df)-1:\n",
    "    if (df.source[i] != df.source[i+1]) and (\n",
    "            df.start_date[i] == df.end_date[i]) and (\n",
    "            df.start_date[i] == df.end_date[i+1]) and (\n",
    "            df.start_time[i+1] < df.end_time[i]) and (\n",
    "            df.end_time[i+1] > df.end_time[i]):\n",
    "\n",
    "        steps_per_hour = df.num_steps[i+1] * \\\n",
    "            (df.end_time[i+1] - df.start_time[i+1])\n",
    "\n",
    "        steps_adjust = (df.end_time[i] - df.start_time[i+1]) * \\\n",
    "            steps_per_hour\n",
    "\n",
    "        steps_adjust = ceil(steps_adjust)\n",
    "\n",
    "        df.loc[(i+1), 'num_steps'] = steps_adjust\n",
    "        df.loc[(i+1), 'start_time'] = df.end_time[i]\n",
    "        df.loc[(i+1), 'duration'] = df.end_time[i+1] - df.start_time[i+1]\n",
    "        df.loc[i, 'duration'] = df.end_time[i] - df.start_time[i]\n",
    "\n",
    "        if df.num_steps[i+1] <= -1.0e-2:\n",
    "            df.drop(index=(i+1), inplace=True)\n",
    "            df.reset_index(inplace=True)\n",
    "            df.drop(columns=['index'], inplace=True)\n",
    "\n",
    "        else:\n",
    "            i += 1\n",
    "\n",
    "    else:\n",
    "        i += 1\n",
    "\n",
    "df.reset_index(inplace=True)\n",
    "df.drop(columns=['index'], inplace=True)\n",
    "\n",
    "print(len(df))\n",
    "print(df.num_steps.sum())"
   ]
  },
  {
   "cell_type": "code",
   "execution_count": 110,
   "metadata": {
    "ExecuteTime": {
     "end_time": "2018-11-02T03:11:40.393470Z",
     "start_time": "2018-11-02T03:11:40.194876Z"
    }
   },
   "outputs": [
    {
     "name": "stdout",
     "output_type": "stream",
     "text": [
      "25194\n",
      "3909807\n"
     ]
    }
   ],
   "source": [
    "df = df[df['duration']>0]\n",
    "df.reset_index(inplace=True)\n",
    "df.drop(columns=['index'], inplace=True)\n",
    "print(len(df))\n",
    "print(df.num_steps.sum())"
   ]
  },
  {
   "cell_type": "code",
   "execution_count": 111,
   "metadata": {
    "ExecuteTime": {
     "end_time": "2018-11-02T03:11:42.235270Z",
     "start_time": "2018-11-02T03:11:42.192029Z"
    }
   },
   "outputs": [
    {
     "ename": "KeyError",
     "evalue": "'the label [25196] is not in the [index]'",
     "output_type": "error",
     "traceback": [
      "\u001b[0;31m---------------------------------------------------------------------------\u001b[0m",
      "\u001b[0;31mKeyError\u001b[0m                                  Traceback (most recent call last)",
      "\u001b[0;32m~/anaconda3/lib/python3.6/site-packages/pandas/core/indexing.py\u001b[0m in \u001b[0;36m_validate_key\u001b[0;34m(self, key, axis)\u001b[0m\n\u001b[1;32m   1789\u001b[0m                 \u001b[0;32mif\u001b[0m \u001b[0;32mnot\u001b[0m \u001b[0max\u001b[0m\u001b[0;34m.\u001b[0m\u001b[0mcontains\u001b[0m\u001b[0;34m(\u001b[0m\u001b[0mkey\u001b[0m\u001b[0;34m)\u001b[0m\u001b[0;34m:\u001b[0m\u001b[0;34m\u001b[0m\u001b[0m\n\u001b[0;32m-> 1790\u001b[0;31m                     \u001b[0merror\u001b[0m\u001b[0;34m(\u001b[0m\u001b[0;34m)\u001b[0m\u001b[0;34m\u001b[0m\u001b[0m\n\u001b[0m\u001b[1;32m   1791\u001b[0m             \u001b[0;32mexcept\u001b[0m \u001b[0mTypeError\u001b[0m \u001b[0;32mas\u001b[0m \u001b[0me\u001b[0m\u001b[0;34m:\u001b[0m\u001b[0;34m\u001b[0m\u001b[0m\n",
      "\u001b[0;32m~/anaconda3/lib/python3.6/site-packages/pandas/core/indexing.py\u001b[0m in \u001b[0;36merror\u001b[0;34m()\u001b[0m\n\u001b[1;32m   1784\u001b[0m                                .format(key=key,\n\u001b[0;32m-> 1785\u001b[0;31m                                        axis=self.obj._get_axis_name(axis)))\n\u001b[0m\u001b[1;32m   1786\u001b[0m \u001b[0;34m\u001b[0m\u001b[0m\n",
      "\u001b[0;31mKeyError\u001b[0m: 'the label [25196] is not in the [index]'",
      "\nDuring handling of the above exception, another exception occurred:\n",
      "\u001b[0;31mKeyError\u001b[0m                                  Traceback (most recent call last)",
      "\u001b[0;32m<ipython-input-111-acbb8bf986fa>\u001b[0m in \u001b[0;36m<module>\u001b[0;34m\u001b[0m\n\u001b[1;32m      1\u001b[0m df['duration'] = np.where(df['start_date'] == df['end_date'],\n\u001b[0;32m----> 2\u001b[0;31m                           \u001b[0;34m(\u001b[0m\u001b[0mdf\u001b[0m\u001b[0;34m.\u001b[0m\u001b[0mloc\u001b[0m\u001b[0;34m[\u001b[0m\u001b[0mi\u001b[0m\u001b[0;34m,\u001b[0m \u001b[0;34m'end_time'\u001b[0m\u001b[0;34m]\u001b[0m \u001b[0;34m-\u001b[0m \u001b[0mdf\u001b[0m\u001b[0;34m.\u001b[0m\u001b[0mloc\u001b[0m\u001b[0;34m[\u001b[0m\u001b[0mi\u001b[0m\u001b[0;34m,\u001b[0m \u001b[0;34m'start_time'\u001b[0m\u001b[0;34m]\u001b[0m\u001b[0;34m)\u001b[0m\u001b[0;34m,\u001b[0m\u001b[0;34m\u001b[0m\u001b[0m\n\u001b[0m\u001b[1;32m      3\u001b[0m                           df['duration'])\n",
      "\u001b[0;32m~/anaconda3/lib/python3.6/site-packages/pandas/core/indexing.py\u001b[0m in \u001b[0;36m__getitem__\u001b[0;34m(self, key)\u001b[0m\n\u001b[1;32m   1470\u001b[0m             \u001b[0;32mexcept\u001b[0m \u001b[0;34m(\u001b[0m\u001b[0mKeyError\u001b[0m\u001b[0;34m,\u001b[0m \u001b[0mIndexError\u001b[0m\u001b[0;34m)\u001b[0m\u001b[0;34m:\u001b[0m\u001b[0;34m\u001b[0m\u001b[0m\n\u001b[1;32m   1471\u001b[0m                 \u001b[0;32mpass\u001b[0m\u001b[0;34m\u001b[0m\u001b[0m\n\u001b[0;32m-> 1472\u001b[0;31m             \u001b[0;32mreturn\u001b[0m \u001b[0mself\u001b[0m\u001b[0;34m.\u001b[0m\u001b[0m_getitem_tuple\u001b[0m\u001b[0;34m(\u001b[0m\u001b[0mkey\u001b[0m\u001b[0;34m)\u001b[0m\u001b[0;34m\u001b[0m\u001b[0m\n\u001b[0m\u001b[1;32m   1473\u001b[0m         \u001b[0;32melse\u001b[0m\u001b[0;34m:\u001b[0m\u001b[0;34m\u001b[0m\u001b[0m\n\u001b[1;32m   1474\u001b[0m             \u001b[0;31m# we by definition only have the 0th axis\u001b[0m\u001b[0;34m\u001b[0m\u001b[0;34m\u001b[0m\u001b[0m\n",
      "\u001b[0;32m~/anaconda3/lib/python3.6/site-packages/pandas/core/indexing.py\u001b[0m in \u001b[0;36m_getitem_tuple\u001b[0;34m(self, tup)\u001b[0m\n\u001b[1;32m    868\u001b[0m     \u001b[0;32mdef\u001b[0m \u001b[0m_getitem_tuple\u001b[0m\u001b[0;34m(\u001b[0m\u001b[0mself\u001b[0m\u001b[0;34m,\u001b[0m \u001b[0mtup\u001b[0m\u001b[0;34m)\u001b[0m\u001b[0;34m:\u001b[0m\u001b[0;34m\u001b[0m\u001b[0m\n\u001b[1;32m    869\u001b[0m         \u001b[0;32mtry\u001b[0m\u001b[0;34m:\u001b[0m\u001b[0;34m\u001b[0m\u001b[0m\n\u001b[0;32m--> 870\u001b[0;31m             \u001b[0;32mreturn\u001b[0m \u001b[0mself\u001b[0m\u001b[0;34m.\u001b[0m\u001b[0m_getitem_lowerdim\u001b[0m\u001b[0;34m(\u001b[0m\u001b[0mtup\u001b[0m\u001b[0;34m)\u001b[0m\u001b[0;34m\u001b[0m\u001b[0m\n\u001b[0m\u001b[1;32m    871\u001b[0m         \u001b[0;32mexcept\u001b[0m \u001b[0mIndexingError\u001b[0m\u001b[0;34m:\u001b[0m\u001b[0;34m\u001b[0m\u001b[0m\n\u001b[1;32m    872\u001b[0m             \u001b[0;32mpass\u001b[0m\u001b[0;34m\u001b[0m\u001b[0m\n",
      "\u001b[0;32m~/anaconda3/lib/python3.6/site-packages/pandas/core/indexing.py\u001b[0m in \u001b[0;36m_getitem_lowerdim\u001b[0;34m(self, tup)\u001b[0m\n\u001b[1;32m    996\u001b[0m         \u001b[0;32mfor\u001b[0m \u001b[0mi\u001b[0m\u001b[0;34m,\u001b[0m \u001b[0mkey\u001b[0m \u001b[0;32min\u001b[0m \u001b[0menumerate\u001b[0m\u001b[0;34m(\u001b[0m\u001b[0mtup\u001b[0m\u001b[0;34m)\u001b[0m\u001b[0;34m:\u001b[0m\u001b[0;34m\u001b[0m\u001b[0m\n\u001b[1;32m    997\u001b[0m             \u001b[0;32mif\u001b[0m \u001b[0mis_label_like\u001b[0m\u001b[0;34m(\u001b[0m\u001b[0mkey\u001b[0m\u001b[0;34m)\u001b[0m \u001b[0;32mor\u001b[0m \u001b[0misinstance\u001b[0m\u001b[0;34m(\u001b[0m\u001b[0mkey\u001b[0m\u001b[0;34m,\u001b[0m \u001b[0mtuple\u001b[0m\u001b[0;34m)\u001b[0m\u001b[0;34m:\u001b[0m\u001b[0;34m\u001b[0m\u001b[0m\n\u001b[0;32m--> 998\u001b[0;31m                 \u001b[0msection\u001b[0m \u001b[0;34m=\u001b[0m \u001b[0mself\u001b[0m\u001b[0;34m.\u001b[0m\u001b[0m_getitem_axis\u001b[0m\u001b[0;34m(\u001b[0m\u001b[0mkey\u001b[0m\u001b[0;34m,\u001b[0m \u001b[0maxis\u001b[0m\u001b[0;34m=\u001b[0m\u001b[0mi\u001b[0m\u001b[0;34m)\u001b[0m\u001b[0;34m\u001b[0m\u001b[0m\n\u001b[0m\u001b[1;32m    999\u001b[0m \u001b[0;34m\u001b[0m\u001b[0m\n\u001b[1;32m   1000\u001b[0m                 \u001b[0;31m# we have yielded a scalar ?\u001b[0m\u001b[0;34m\u001b[0m\u001b[0;34m\u001b[0m\u001b[0m\n",
      "\u001b[0;32m~/anaconda3/lib/python3.6/site-packages/pandas/core/indexing.py\u001b[0m in \u001b[0;36m_getitem_axis\u001b[0;34m(self, key, axis)\u001b[0m\n\u001b[1;32m   1909\u001b[0m \u001b[0;34m\u001b[0m\u001b[0m\n\u001b[1;32m   1910\u001b[0m         \u001b[0;31m# fall thru to straight lookup\u001b[0m\u001b[0;34m\u001b[0m\u001b[0;34m\u001b[0m\u001b[0m\n\u001b[0;32m-> 1911\u001b[0;31m         \u001b[0mself\u001b[0m\u001b[0;34m.\u001b[0m\u001b[0m_validate_key\u001b[0m\u001b[0;34m(\u001b[0m\u001b[0mkey\u001b[0m\u001b[0;34m,\u001b[0m \u001b[0maxis\u001b[0m\u001b[0;34m)\u001b[0m\u001b[0;34m\u001b[0m\u001b[0m\n\u001b[0m\u001b[1;32m   1912\u001b[0m         \u001b[0;32mreturn\u001b[0m \u001b[0mself\u001b[0m\u001b[0;34m.\u001b[0m\u001b[0m_get_label\u001b[0m\u001b[0;34m(\u001b[0m\u001b[0mkey\u001b[0m\u001b[0;34m,\u001b[0m \u001b[0maxis\u001b[0m\u001b[0;34m=\u001b[0m\u001b[0maxis\u001b[0m\u001b[0;34m)\u001b[0m\u001b[0;34m\u001b[0m\u001b[0m\n\u001b[1;32m   1913\u001b[0m \u001b[0;34m\u001b[0m\u001b[0m\n",
      "\u001b[0;32m~/anaconda3/lib/python3.6/site-packages/pandas/core/indexing.py\u001b[0m in \u001b[0;36m_validate_key\u001b[0;34m(self, key, axis)\u001b[0m\n\u001b[1;32m   1796\u001b[0m                 \u001b[0;32mraise\u001b[0m\u001b[0;34m\u001b[0m\u001b[0m\n\u001b[1;32m   1797\u001b[0m             \u001b[0;32mexcept\u001b[0m\u001b[0;34m:\u001b[0m\u001b[0;34m\u001b[0m\u001b[0m\n\u001b[0;32m-> 1798\u001b[0;31m                 \u001b[0merror\u001b[0m\u001b[0;34m(\u001b[0m\u001b[0;34m)\u001b[0m\u001b[0;34m\u001b[0m\u001b[0m\n\u001b[0m\u001b[1;32m   1799\u001b[0m \u001b[0;34m\u001b[0m\u001b[0m\n\u001b[1;32m   1800\u001b[0m     \u001b[0;32mdef\u001b[0m \u001b[0m_is_scalar_access\u001b[0m\u001b[0;34m(\u001b[0m\u001b[0mself\u001b[0m\u001b[0;34m,\u001b[0m \u001b[0mkey\u001b[0m\u001b[0;34m)\u001b[0m\u001b[0;34m:\u001b[0m\u001b[0;34m\u001b[0m\u001b[0m\n",
      "\u001b[0;32m~/anaconda3/lib/python3.6/site-packages/pandas/core/indexing.py\u001b[0m in \u001b[0;36merror\u001b[0;34m()\u001b[0m\n\u001b[1;32m   1783\u001b[0m                 raise KeyError(u\"the label [{key}] is not in the [{axis}]\"\n\u001b[1;32m   1784\u001b[0m                                .format(key=key,\n\u001b[0;32m-> 1785\u001b[0;31m                                        axis=self.obj._get_axis_name(axis)))\n\u001b[0m\u001b[1;32m   1786\u001b[0m \u001b[0;34m\u001b[0m\u001b[0m\n\u001b[1;32m   1787\u001b[0m             \u001b[0;32mtry\u001b[0m\u001b[0;34m:\u001b[0m\u001b[0;34m\u001b[0m\u001b[0m\n",
      "\u001b[0;31mKeyError\u001b[0m: 'the label [25196] is not in the [index]'"
     ]
    }
   ],
   "source": [
    "df['duration'] = np.where(df['start_date'] == df['end_date'],\n",
    "                          (df.loc[i, 'end_time'] - df.loc[i, 'start_time']),\n",
    "                          df['duration'])"
   ]
  },
  {
   "cell_type": "code",
   "execution_count": 99,
   "metadata": {
    "ExecuteTime": {
     "end_time": "2018-11-02T03:09:03.346612Z",
     "start_time": "2018-11-02T03:08:21.088970Z"
    }
   },
   "outputs": [
    {
     "name": "stdout",
     "output_type": "stream",
     "text": [
      "10083\n",
      "3909807\n"
     ]
    }
   ],
   "source": [
    "i = 0\n",
    "\n",
    "while i < len(df)-1:\n",
    "    if (df.start_date[i] == df.end_date[i]) and (\n",
    "            df.start_date[i] == df.end_date[i+1]) and (\n",
    "            df.end_time[i] == df.start_time[i+1]):\n",
    "\n",
    "        df.loc[i, 'end_time'] = df.end_time[i+1]\n",
    "        df.loc[i, 'num_steps'] += df.num_steps[i+1]\n",
    "\n",
    "        df.drop(index=(i+1), inplace=True)\n",
    "        df.reset_index(inplace=True)\n",
    "        df.drop(columns=['index'], inplace=True)\n",
    "\n",
    "    else:\n",
    "        i += 1\n",
    "\n",
    "print(len(df))\n",
    "print(df.num_steps.sum())"
   ]
  },
  {
   "cell_type": "code",
   "execution_count": 101,
   "metadata": {
    "ExecuteTime": {
     "end_time": "2018-11-02T03:09:09.930834Z",
     "start_time": "2018-11-02T03:09:09.911648Z"
    }
   },
   "outputs": [
    {
     "data": {
      "text/plain": [
       "Index(['start_date', 'start_time', 'end_date', 'end_time', 'num_steps',\n",
       "       'duration', 'source'],\n",
       "      dtype='object')"
      ]
     },
     "execution_count": 101,
     "metadata": {},
     "output_type": "execute_result"
    }
   ],
   "source": [
    "df.columns"
   ]
  },
  {
   "cell_type": "code",
   "execution_count": 102,
   "metadata": {
    "ExecuteTime": {
     "end_time": "2018-11-02T03:09:15.165568Z",
     "start_time": "2018-11-02T03:09:12.979447Z"
    }
   },
   "outputs": [],
   "source": [
    "i = 0\n",
    "while i < len(df)-1:\n",
    "    if (df.end_date[i] - pd.Timedelta(86400000000000) == df.start_date[i]):\n",
    "\n",
    "        st_dt, st_tm, end_dt, end_tm, num_st, dur, sauce = df.iloc[i]\n",
    "\n",
    "        steps_per_hour = num_st * (end_tm + (24.0 - st_tm))\n",
    "\n",
    "        df.loc[i+.1] = [end_dt, 0.0, end_dt, end_tm,\n",
    "                        ceil(steps_per_hour*end_tm), end_tm, sauce]\n",
    "\n",
    "        df.loc[i] = [st_dt, st_tm, st_dt, 24.0,\n",
    "                     ceil(steps_per_hour*(24.0-st_tm)),\n",
    "                     (24.0-st_tm), sauce]\n",
    "        \n",
    "        df.reset_index(inplace=True)\n",
    "        df.drop(columns=['index'], inplace=True)\n",
    "        \n",
    "        i += 1\n",
    "    else:\n",
    "        i += 1"
   ]
  },
  {
   "cell_type": "code",
   "execution_count": null,
   "metadata": {
    "ExecuteTime": {
     "end_time": "2018-11-02T03:08:18.029488Z",
     "start_time": "2018-11-02T02:59:07.531Z"
    }
   },
   "outputs": [],
   "source": [
    "#         st_dt, st_tm, end_dt, end_tm, num_st, dur, sauce = df.iloc[i]\n",
    "\n",
    "#         steps_per_hour = num_st * (end_tm + (24.0 - st_tm))\n",
    "\n",
    "#         df.loc[i+.1] = [end_dt, 0.0, end_dt, end_tm,\n",
    "#                         ceil(steps_per_hour*end_tm), end_tm, sauce]\n",
    "\n",
    "#         df.loc[i] = [st_dt, st_tm, st_dt, 24.0,\n",
    "#                      ceil(steps_per_hour*(24.0-st_tm)),\n",
    "#                      (24.0-st_tm), sauce]"
   ]
  },
  {
   "cell_type": "code",
   "execution_count": 103,
   "metadata": {
    "ExecuteTime": {
     "end_time": "2018-11-02T03:09:18.759245Z",
     "start_time": "2018-11-02T03:09:18.739400Z"
    }
   },
   "outputs": [
    {
     "name": "stdout",
     "output_type": "stream",
     "text": [
      "10220\n",
      "26398723\n"
     ]
    }
   ],
   "source": [
    "print(len(df))\n",
    "print(df.num_steps.sum())"
   ]
  },
  {
   "cell_type": "code",
   "execution_count": null,
   "metadata": {
    "ExecuteTime": {
     "end_time": "2018-11-02T03:08:18.032827Z",
     "start_time": "2018-11-02T02:59:07.978Z"
    }
   },
   "outputs": [],
   "source": [
    "df['steps_per_hour'] = df['num_steps']/df['duration']"
   ]
  },
  {
   "cell_type": "code",
   "execution_count": null,
   "metadata": {
    "ExecuteTime": {
     "end_time": "2018-11-02T03:08:18.034670Z",
     "start_time": "2018-11-02T02:59:08.439Z"
    }
   },
   "outputs": [],
   "source": [
    "df[df['start_date']=='2018-10-19']"
   ]
  },
  {
   "cell_type": "code",
   "execution_count": null,
   "metadata": {
    "ExecuteTime": {
     "end_time": "2018-11-02T03:08:18.036401Z",
     "start_time": "2018-11-02T02:59:08.860Z"
    }
   },
   "outputs": [],
   "source": [
    "summed_df = df.groupby(by=['start_date', 'end_date']).sum()"
   ]
  },
  {
   "cell_type": "code",
   "execution_count": null,
   "metadata": {
    "ExecuteTime": {
     "end_time": "2018-11-02T03:08:18.038053Z",
     "start_time": "2018-11-02T02:59:09.327Z"
    }
   },
   "outputs": [],
   "source": [
    "summed_df.tail(60)"
   ]
  },
  {
   "cell_type": "code",
   "execution_count": null,
   "metadata": {
    "ExecuteTime": {
     "end_time": "2018-11-02T03:08:18.039509Z",
     "start_time": "2018-11-02T02:59:09.974Z"
    }
   },
   "outputs": [],
   "source": [
    "summed_df[summed_df['duration']>=24]"
   ]
  },
  {
   "cell_type": "code",
   "execution_count": null,
   "metadata": {
    "ExecuteTime": {
     "end_time": "2018-10-28T04:25:19.855697Z",
     "start_time": "2018-10-28T04:25:19.833872Z"
    },
    "scrolled": true
   },
   "outputs": [],
   "source": [
    "# i = 0\n",
    "# while i < len(df):\n",
    "#     if (((i in df.index) and (i+1 in df.index)) and (\n",
    "#             df['source'][i] == df['source'][i+1])) and (\n",
    "#             df['end_time'][i] == df['start_time'][i+1]):\n",
    "#         df.loc[i, 'end_time'] = df.loc[(i+1), 'end_time']\n",
    "#         df.loc[i, 'end_date'] = df.loc[(i+1), 'end_date']\n",
    "#         df.loc[i, 'num_steps'] += df.loc[(i+1), 'num_steps']\n",
    "#         df.loc[i, 'duration'] += df.loc[(i+1), 'duration']\n",
    "#         df.drop(index=(i+1), inplace=True)\n",
    "#         df.reset_index(inplace=True)\n",
    "#         df.drop(columns=['index'], inplace=True)\n",
    "#     else:\n",
    "#         i += 1\n",
    "\n",
    "# print(len(df))\n",
    "# print(df.num_steps.sum())"
   ]
  },
  {
   "cell_type": "code",
   "execution_count": null,
   "metadata": {
    "ExecuteTime": {
     "end_time": "2018-10-29T04:29:52.735386Z",
     "start_time": "2018-10-29T04:29:52.701857Z"
    }
   },
   "outputs": [],
   "source": [
    "# df = df[df['duration'] > 0].reset_index().drop(columns=['index'])\n",
    "# df = df[df['num_steps'] > 0].reset_index().drop(columns=['index'])\n",
    "# print(len(df))\n",
    "# print(df.num_steps.sum())"
   ]
  },
  {
   "cell_type": "code",
   "execution_count": null,
   "metadata": {
    "ExecuteTime": {
     "end_time": "2018-10-28T04:24:17.052800Z",
     "start_time": "2018-10-28T04:24:17.031351Z"
    }
   },
   "outputs": [],
   "source": [
    "# i = 0\n",
    "# while i < len(df)-2:\n",
    "#     if ((df.source[i] != df.source[i+1]) and (\n",
    "#             df.start_date[i] == df.start_date[i+1])) and ((\n",
    "#             df.start_time[i+1] == df.end_time[i]) and (\n",
    "#             df.end_time[i] == df.start_time[i+2])):\n",
    "\n",
    "#         df.drop(index=(i+1), inplace=True)\n",
    "#         i += 2\n",
    "#     else:\n",
    "#         i += 1\n",
    "# df.reset_index(inplace=True)\n",
    "# df.drop(columns=['index'], inplace=True)\n",
    "# print(len(df))\n",
    "# print(df.num_steps.sum())"
   ]
  }
 ],
 "metadata": {
  "kernelspec": {
   "display_name": "Python 3",
   "language": "python",
   "name": "python3"
  },
  "language_info": {
   "codemirror_mode": {
    "name": "ipython",
    "version": 3
   },
   "file_extension": ".py",
   "mimetype": "text/x-python",
   "name": "python",
   "nbconvert_exporter": "python",
   "pygments_lexer": "ipython3",
   "version": "3.6.6"
  }
 },
 "nbformat": 4,
 "nbformat_minor": 2
}
