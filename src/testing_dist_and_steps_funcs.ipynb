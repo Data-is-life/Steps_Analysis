{
 "cells": [
  {
   "cell_type": "markdown",
   "metadata": {},
   "source": [
    "# Steps Analysis (02/17/17 - 10/24/18)"
   ]
  },
  {
   "cell_type": "code",
   "execution_count": 1,
   "metadata": {
    "ExecuteTime": {
     "end_time": "2018-11-15T17:53:15.190720Z",
     "start_time": "2018-11-15T17:53:14.747533Z"
    }
   },
   "outputs": [
    {
     "data": {
      "text/html": [
       "\n",
       "    <div class=\"bk-root\">\n",
       "        <a href=\"https://bokeh.pydata.org\" target=\"_blank\" class=\"bk-logo bk-logo-small bk-logo-notebook\"></a>\n",
       "        <span id=\"1001\">Loading BokehJS ...</span>\n",
       "    </div>"
      ]
     },
     "metadata": {},
     "output_type": "display_data"
    },
    {
     "data": {
      "application/javascript": [
       "\n",
       "(function(root) {\n",
       "  function now() {\n",
       "    return new Date();\n",
       "  }\n",
       "\n",
       "  var force = true;\n",
       "\n",
       "  if (typeof (root._bokeh_onload_callbacks) === \"undefined\" || force === true) {\n",
       "    root._bokeh_onload_callbacks = [];\n",
       "    root._bokeh_is_loading = undefined;\n",
       "  }\n",
       "\n",
       "  var JS_MIME_TYPE = 'application/javascript';\n",
       "  var HTML_MIME_TYPE = 'text/html';\n",
       "  var EXEC_MIME_TYPE = 'application/vnd.bokehjs_exec.v0+json';\n",
       "  var CLASS_NAME = 'output_bokeh rendered_html';\n",
       "\n",
       "  /**\n",
       "   * Render data to the DOM node\n",
       "   */\n",
       "  function render(props, node) {\n",
       "    var script = document.createElement(\"script\");\n",
       "    node.appendChild(script);\n",
       "  }\n",
       "\n",
       "  /**\n",
       "   * Handle when an output is cleared or removed\n",
       "   */\n",
       "  function handleClearOutput(event, handle) {\n",
       "    var cell = handle.cell;\n",
       "\n",
       "    var id = cell.output_area._bokeh_element_id;\n",
       "    var server_id = cell.output_area._bokeh_server_id;\n",
       "    // Clean up Bokeh references\n",
       "    if (id != null && id in Bokeh.index) {\n",
       "      Bokeh.index[id].model.document.clear();\n",
       "      delete Bokeh.index[id];\n",
       "    }\n",
       "\n",
       "    if (server_id !== undefined) {\n",
       "      // Clean up Bokeh references\n",
       "      var cmd = \"from bokeh.io.state import curstate; print(curstate().uuid_to_server['\" + server_id + \"'].get_sessions()[0].document.roots[0]._id)\";\n",
       "      cell.notebook.kernel.execute(cmd, {\n",
       "        iopub: {\n",
       "          output: function(msg) {\n",
       "            var id = msg.content.text.trim();\n",
       "            if (id in Bokeh.index) {\n",
       "              Bokeh.index[id].model.document.clear();\n",
       "              delete Bokeh.index[id];\n",
       "            }\n",
       "          }\n",
       "        }\n",
       "      });\n",
       "      // Destroy server and session\n",
       "      var cmd = \"import bokeh.io.notebook as ion; ion.destroy_server('\" + server_id + \"')\";\n",
       "      cell.notebook.kernel.execute(cmd);\n",
       "    }\n",
       "  }\n",
       "\n",
       "  /**\n",
       "   * Handle when a new output is added\n",
       "   */\n",
       "  function handleAddOutput(event, handle) {\n",
       "    var output_area = handle.output_area;\n",
       "    var output = handle.output;\n",
       "\n",
       "    // limit handleAddOutput to display_data with EXEC_MIME_TYPE content only\n",
       "    if ((output.output_type != \"display_data\") || (!output.data.hasOwnProperty(EXEC_MIME_TYPE))) {\n",
       "      return\n",
       "    }\n",
       "\n",
       "    var toinsert = output_area.element.find(\".\" + CLASS_NAME.split(' ')[0]);\n",
       "\n",
       "    if (output.metadata[EXEC_MIME_TYPE][\"id\"] !== undefined) {\n",
       "      toinsert[toinsert.length - 1].firstChild.textContent = output.data[JS_MIME_TYPE];\n",
       "      // store reference to embed id on output_area\n",
       "      output_area._bokeh_element_id = output.metadata[EXEC_MIME_TYPE][\"id\"];\n",
       "    }\n",
       "    if (output.metadata[EXEC_MIME_TYPE][\"server_id\"] !== undefined) {\n",
       "      var bk_div = document.createElement(\"div\");\n",
       "      bk_div.innerHTML = output.data[HTML_MIME_TYPE];\n",
       "      var script_attrs = bk_div.children[0].attributes;\n",
       "      for (var i = 0; i < script_attrs.length; i++) {\n",
       "        toinsert[toinsert.length - 1].firstChild.setAttribute(script_attrs[i].name, script_attrs[i].value);\n",
       "      }\n",
       "      // store reference to server id on output_area\n",
       "      output_area._bokeh_server_id = output.metadata[EXEC_MIME_TYPE][\"server_id\"];\n",
       "    }\n",
       "  }\n",
       "\n",
       "  function register_renderer(events, OutputArea) {\n",
       "\n",
       "    function append_mime(data, metadata, element) {\n",
       "      // create a DOM node to render to\n",
       "      var toinsert = this.create_output_subarea(\n",
       "        metadata,\n",
       "        CLASS_NAME,\n",
       "        EXEC_MIME_TYPE\n",
       "      );\n",
       "      this.keyboard_manager.register_events(toinsert);\n",
       "      // Render to node\n",
       "      var props = {data: data, metadata: metadata[EXEC_MIME_TYPE]};\n",
       "      render(props, toinsert[toinsert.length - 1]);\n",
       "      element.append(toinsert);\n",
       "      return toinsert\n",
       "    }\n",
       "\n",
       "    /* Handle when an output is cleared or removed */\n",
       "    events.on('clear_output.CodeCell', handleClearOutput);\n",
       "    events.on('delete.Cell', handleClearOutput);\n",
       "\n",
       "    /* Handle when a new output is added */\n",
       "    events.on('output_added.OutputArea', handleAddOutput);\n",
       "\n",
       "    /**\n",
       "     * Register the mime type and append_mime function with output_area\n",
       "     */\n",
       "    OutputArea.prototype.register_mime_type(EXEC_MIME_TYPE, append_mime, {\n",
       "      /* Is output safe? */\n",
       "      safe: true,\n",
       "      /* Index of renderer in `output_area.display_order` */\n",
       "      index: 0\n",
       "    });\n",
       "  }\n",
       "\n",
       "  // register the mime type if in Jupyter Notebook environment and previously unregistered\n",
       "  if (root.Jupyter !== undefined) {\n",
       "    var events = require('base/js/events');\n",
       "    var OutputArea = require('notebook/js/outputarea').OutputArea;\n",
       "\n",
       "    if (OutputArea.prototype.mime_types().indexOf(EXEC_MIME_TYPE) == -1) {\n",
       "      register_renderer(events, OutputArea);\n",
       "    }\n",
       "  }\n",
       "\n",
       "  \n",
       "  if (typeof (root._bokeh_timeout) === \"undefined\" || force === true) {\n",
       "    root._bokeh_timeout = Date.now() + 5000;\n",
       "    root._bokeh_failed_load = false;\n",
       "  }\n",
       "\n",
       "  var NB_LOAD_WARNING = {'data': {'text/html':\n",
       "     \"<div style='background-color: #fdd'>\\n\"+\n",
       "     \"<p>\\n\"+\n",
       "     \"BokehJS does not appear to have successfully loaded. If loading BokehJS from CDN, this \\n\"+\n",
       "     \"may be due to a slow or bad network connection. Possible fixes:\\n\"+\n",
       "     \"</p>\\n\"+\n",
       "     \"<ul>\\n\"+\n",
       "     \"<li>re-rerun `output_notebook()` to attempt to load from CDN again, or</li>\\n\"+\n",
       "     \"<li>use INLINE resources instead, as so:</li>\\n\"+\n",
       "     \"</ul>\\n\"+\n",
       "     \"<code>\\n\"+\n",
       "     \"from bokeh.resources import INLINE\\n\"+\n",
       "     \"output_notebook(resources=INLINE)\\n\"+\n",
       "     \"</code>\\n\"+\n",
       "     \"</div>\"}};\n",
       "\n",
       "  function display_loaded() {\n",
       "    var el = document.getElementById(\"1001\");\n",
       "    if (el != null) {\n",
       "      el.textContent = \"BokehJS is loading...\";\n",
       "    }\n",
       "    if (root.Bokeh !== undefined) {\n",
       "      if (el != null) {\n",
       "        el.textContent = \"BokehJS \" + root.Bokeh.version + \" successfully loaded.\";\n",
       "      }\n",
       "    } else if (Date.now() < root._bokeh_timeout) {\n",
       "      setTimeout(display_loaded, 100)\n",
       "    }\n",
       "  }\n",
       "\n",
       "\n",
       "  function run_callbacks() {\n",
       "    try {\n",
       "      root._bokeh_onload_callbacks.forEach(function(callback) { callback() });\n",
       "    }\n",
       "    finally {\n",
       "      delete root._bokeh_onload_callbacks\n",
       "    }\n",
       "    console.info(\"Bokeh: all callbacks have finished\");\n",
       "  }\n",
       "\n",
       "  function load_libs(js_urls, callback) {\n",
       "    root._bokeh_onload_callbacks.push(callback);\n",
       "    if (root._bokeh_is_loading > 0) {\n",
       "      console.log(\"Bokeh: BokehJS is being loaded, scheduling callback at\", now());\n",
       "      return null;\n",
       "    }\n",
       "    if (js_urls == null || js_urls.length === 0) {\n",
       "      run_callbacks();\n",
       "      return null;\n",
       "    }\n",
       "    console.log(\"Bokeh: BokehJS not loaded, scheduling load and callback at\", now());\n",
       "    root._bokeh_is_loading = js_urls.length;\n",
       "    for (var i = 0; i < js_urls.length; i++) {\n",
       "      var url = js_urls[i];\n",
       "      var s = document.createElement('script');\n",
       "      s.src = url;\n",
       "      s.async = false;\n",
       "      s.onreadystatechange = s.onload = function() {\n",
       "        root._bokeh_is_loading--;\n",
       "        if (root._bokeh_is_loading === 0) {\n",
       "          console.log(\"Bokeh: all BokehJS libraries loaded\");\n",
       "          run_callbacks()\n",
       "        }\n",
       "      };\n",
       "      s.onerror = function() {\n",
       "        console.warn(\"failed to load library \" + url);\n",
       "      };\n",
       "      console.log(\"Bokeh: injecting script tag for BokehJS library: \", url);\n",
       "      document.getElementsByTagName(\"head\")[0].appendChild(s);\n",
       "    }\n",
       "  };var element = document.getElementById(\"1001\");\n",
       "  if (element == null) {\n",
       "    console.log(\"Bokeh: ERROR: autoload.js configured with elementid '1001' but no matching script tag was found. \")\n",
       "    return false;\n",
       "  }\n",
       "\n",
       "  var js_urls = [\"https://cdn.pydata.org/bokeh/release/bokeh-1.0.1.min.js\", \"https://cdn.pydata.org/bokeh/release/bokeh-widgets-1.0.1.min.js\", \"https://cdn.pydata.org/bokeh/release/bokeh-tables-1.0.1.min.js\", \"https://cdn.pydata.org/bokeh/release/bokeh-gl-1.0.1.min.js\"];\n",
       "\n",
       "  var inline_js = [\n",
       "    function(Bokeh) {\n",
       "      Bokeh.set_log_level(\"info\");\n",
       "    },\n",
       "    \n",
       "    function(Bokeh) {\n",
       "      \n",
       "    },\n",
       "    function(Bokeh) {\n",
       "      console.log(\"Bokeh: injecting CSS: https://cdn.pydata.org/bokeh/release/bokeh-1.0.1.min.css\");\n",
       "      Bokeh.embed.inject_css(\"https://cdn.pydata.org/bokeh/release/bokeh-1.0.1.min.css\");\n",
       "      console.log(\"Bokeh: injecting CSS: https://cdn.pydata.org/bokeh/release/bokeh-widgets-1.0.1.min.css\");\n",
       "      Bokeh.embed.inject_css(\"https://cdn.pydata.org/bokeh/release/bokeh-widgets-1.0.1.min.css\");\n",
       "      console.log(\"Bokeh: injecting CSS: https://cdn.pydata.org/bokeh/release/bokeh-tables-1.0.1.min.css\");\n",
       "      Bokeh.embed.inject_css(\"https://cdn.pydata.org/bokeh/release/bokeh-tables-1.0.1.min.css\");\n",
       "    }\n",
       "  ];\n",
       "\n",
       "  function run_inline_js() {\n",
       "    \n",
       "    if ((root.Bokeh !== undefined) || (force === true)) {\n",
       "      for (var i = 0; i < inline_js.length; i++) {\n",
       "        inline_js[i].call(root, root.Bokeh);\n",
       "      }if (force === true) {\n",
       "        display_loaded();\n",
       "      }} else if (Date.now() < root._bokeh_timeout) {\n",
       "      setTimeout(run_inline_js, 100);\n",
       "    } else if (!root._bokeh_failed_load) {\n",
       "      console.log(\"Bokeh: BokehJS failed to load within specified timeout.\");\n",
       "      root._bokeh_failed_load = true;\n",
       "    } else if (force !== true) {\n",
       "      var cell = $(document.getElementById(\"1001\")).parents('.cell').data().cell;\n",
       "      cell.output_area.append_execute_result(NB_LOAD_WARNING)\n",
       "    }\n",
       "\n",
       "  }\n",
       "\n",
       "  if (root._bokeh_is_loading === 0) {\n",
       "    console.log(\"Bokeh: BokehJS loaded, going straight to plotting\");\n",
       "    run_inline_js();\n",
       "  } else {\n",
       "    load_libs(js_urls, function() {\n",
       "      console.log(\"Bokeh: BokehJS plotting callback run at\", now());\n",
       "      run_inline_js();\n",
       "    });\n",
       "  }\n",
       "}(window));"
      ],
      "application/vnd.bokehjs_load.v0+json": "\n(function(root) {\n  function now() {\n    return new Date();\n  }\n\n  var force = true;\n\n  if (typeof (root._bokeh_onload_callbacks) === \"undefined\" || force === true) {\n    root._bokeh_onload_callbacks = [];\n    root._bokeh_is_loading = undefined;\n  }\n\n  \n\n  \n  if (typeof (root._bokeh_timeout) === \"undefined\" || force === true) {\n    root._bokeh_timeout = Date.now() + 5000;\n    root._bokeh_failed_load = false;\n  }\n\n  var NB_LOAD_WARNING = {'data': {'text/html':\n     \"<div style='background-color: #fdd'>\\n\"+\n     \"<p>\\n\"+\n     \"BokehJS does not appear to have successfully loaded. If loading BokehJS from CDN, this \\n\"+\n     \"may be due to a slow or bad network connection. Possible fixes:\\n\"+\n     \"</p>\\n\"+\n     \"<ul>\\n\"+\n     \"<li>re-rerun `output_notebook()` to attempt to load from CDN again, or</li>\\n\"+\n     \"<li>use INLINE resources instead, as so:</li>\\n\"+\n     \"</ul>\\n\"+\n     \"<code>\\n\"+\n     \"from bokeh.resources import INLINE\\n\"+\n     \"output_notebook(resources=INLINE)\\n\"+\n     \"</code>\\n\"+\n     \"</div>\"}};\n\n  function display_loaded() {\n    var el = document.getElementById(\"1001\");\n    if (el != null) {\n      el.textContent = \"BokehJS is loading...\";\n    }\n    if (root.Bokeh !== undefined) {\n      if (el != null) {\n        el.textContent = \"BokehJS \" + root.Bokeh.version + \" successfully loaded.\";\n      }\n    } else if (Date.now() < root._bokeh_timeout) {\n      setTimeout(display_loaded, 100)\n    }\n  }\n\n\n  function run_callbacks() {\n    try {\n      root._bokeh_onload_callbacks.forEach(function(callback) { callback() });\n    }\n    finally {\n      delete root._bokeh_onload_callbacks\n    }\n    console.info(\"Bokeh: all callbacks have finished\");\n  }\n\n  function load_libs(js_urls, callback) {\n    root._bokeh_onload_callbacks.push(callback);\n    if (root._bokeh_is_loading > 0) {\n      console.log(\"Bokeh: BokehJS is being loaded, scheduling callback at\", now());\n      return null;\n    }\n    if (js_urls == null || js_urls.length === 0) {\n      run_callbacks();\n      return null;\n    }\n    console.log(\"Bokeh: BokehJS not loaded, scheduling load and callback at\", now());\n    root._bokeh_is_loading = js_urls.length;\n    for (var i = 0; i < js_urls.length; i++) {\n      var url = js_urls[i];\n      var s = document.createElement('script');\n      s.src = url;\n      s.async = false;\n      s.onreadystatechange = s.onload = function() {\n        root._bokeh_is_loading--;\n        if (root._bokeh_is_loading === 0) {\n          console.log(\"Bokeh: all BokehJS libraries loaded\");\n          run_callbacks()\n        }\n      };\n      s.onerror = function() {\n        console.warn(\"failed to load library \" + url);\n      };\n      console.log(\"Bokeh: injecting script tag for BokehJS library: \", url);\n      document.getElementsByTagName(\"head\")[0].appendChild(s);\n    }\n  };var element = document.getElementById(\"1001\");\n  if (element == null) {\n    console.log(\"Bokeh: ERROR: autoload.js configured with elementid '1001' but no matching script tag was found. \")\n    return false;\n  }\n\n  var js_urls = [\"https://cdn.pydata.org/bokeh/release/bokeh-1.0.1.min.js\", \"https://cdn.pydata.org/bokeh/release/bokeh-widgets-1.0.1.min.js\", \"https://cdn.pydata.org/bokeh/release/bokeh-tables-1.0.1.min.js\", \"https://cdn.pydata.org/bokeh/release/bokeh-gl-1.0.1.min.js\"];\n\n  var inline_js = [\n    function(Bokeh) {\n      Bokeh.set_log_level(\"info\");\n    },\n    \n    function(Bokeh) {\n      \n    },\n    function(Bokeh) {\n      console.log(\"Bokeh: injecting CSS: https://cdn.pydata.org/bokeh/release/bokeh-1.0.1.min.css\");\n      Bokeh.embed.inject_css(\"https://cdn.pydata.org/bokeh/release/bokeh-1.0.1.min.css\");\n      console.log(\"Bokeh: injecting CSS: https://cdn.pydata.org/bokeh/release/bokeh-widgets-1.0.1.min.css\");\n      Bokeh.embed.inject_css(\"https://cdn.pydata.org/bokeh/release/bokeh-widgets-1.0.1.min.css\");\n      console.log(\"Bokeh: injecting CSS: https://cdn.pydata.org/bokeh/release/bokeh-tables-1.0.1.min.css\");\n      Bokeh.embed.inject_css(\"https://cdn.pydata.org/bokeh/release/bokeh-tables-1.0.1.min.css\");\n    }\n  ];\n\n  function run_inline_js() {\n    \n    if ((root.Bokeh !== undefined) || (force === true)) {\n      for (var i = 0; i < inline_js.length; i++) {\n        inline_js[i].call(root, root.Bokeh);\n      }if (force === true) {\n        display_loaded();\n      }} else if (Date.now() < root._bokeh_timeout) {\n      setTimeout(run_inline_js, 100);\n    } else if (!root._bokeh_failed_load) {\n      console.log(\"Bokeh: BokehJS failed to load within specified timeout.\");\n      root._bokeh_failed_load = true;\n    } else if (force !== true) {\n      var cell = $(document.getElementById(\"1001\")).parents('.cell').data().cell;\n      cell.output_area.append_execute_result(NB_LOAD_WARNING)\n    }\n\n  }\n\n  if (root._bokeh_is_loading === 0) {\n    console.log(\"Bokeh: BokehJS loaded, going straight to plotting\");\n    run_inline_js();\n  } else {\n    load_libs(js_urls, function() {\n      console.log(\"Bokeh: BokehJS plotting callback run at\", now());\n      run_inline_js();\n    });\n  }\n}(window));"
     },
     "metadata": {},
     "output_type": "display_data"
    }
   ],
   "source": [
    "from main_clean_functions import main_clean_function\n",
    "from main_clean_functions import create_combined_daily_df\n",
    "from common_cleaning_functions import print_remaining\n",
    "from common_cleaning_functions import print_all_info\n",
    "from stats_functions import get_stats_day_week_month\n",
    "from stats_functions import rolling_day_df\n",
    "from bokeh.models import ColumnDataSource, HoverTool\n",
    "from bokeh.plotting import figure\n",
    "from bokeh.transform import factor_cmap\n",
    "from IPython.display import IFrame\n",
    "from bokeh.io import output_notebook, show\n",
    "output_notebook()"
   ]
  },
  {
   "cell_type": "code",
   "execution_count": 2,
   "metadata": {
    "ExecuteTime": {
     "end_time": "2018-11-15T17:54:58.496923Z",
     "start_time": "2018-11-15T17:53:17.601467Z"
    }
   },
   "outputs": [
    {
     "name": "stderr",
     "output_type": "stream",
     "text": [
      "/home/guess/anaconda3/lib/python3.6/site-packages/pandas/core/indexing.py:543: SettingWithCopyWarning: \n",
      "A value is trying to be set on a copy of a slice from a DataFrame.\n",
      "Try using .loc[row_indexer,col_indexer] = value instead\n",
      "\n",
      "See the caveats in the documentation: http://pandas.pydata.org/pandas-docs/stable/indexing.html#indexing-view-versus-copy\n",
      "  self.obj[item] = s\n",
      "/home/guess/anaconda3/lib/python3.6/site-packages/pandas/core/frame.py:3697: SettingWithCopyWarning: \n",
      "A value is trying to be set on a copy of a slice from a DataFrame\n",
      "\n",
      "See the caveats in the documentation: http://pandas.pydata.org/pandas-docs/stable/indexing.html#indexing-view-versus-copy\n",
      "  errors=errors)\n"
     ]
    }
   ],
   "source": [
    "steps_df, dist_df, floors_df = main_clean_function('../data/export.xml')"
   ]
  },
  {
   "cell_type": "code",
   "execution_count": 3,
   "metadata": {
    "ExecuteTime": {
     "end_time": "2018-11-15T17:54:58.558611Z",
     "start_time": "2018-11-15T17:54:58.499201Z"
    }
   },
   "outputs": [],
   "source": [
    "combined_df = create_combined_daily_df(steps_df, dist_df, floors_df)"
   ]
  },
  {
   "cell_type": "code",
   "execution_count": 4,
   "metadata": {
    "ExecuteTime": {
     "end_time": "2018-11-15T17:54:58.636715Z",
     "start_time": "2018-11-15T17:54:58.560470Z"
    },
    "scrolled": true
   },
   "outputs": [
    {
     "data": {
      "text/html": [
       "<div>\n",
       "<style scoped>\n",
       "    .dataframe tbody tr th:only-of-type {\n",
       "        vertical-align: middle;\n",
       "    }\n",
       "\n",
       "    .dataframe tbody tr th {\n",
       "        vertical-align: top;\n",
       "    }\n",
       "\n",
       "    .dataframe thead th {\n",
       "        text-align: right;\n",
       "    }\n",
       "</style>\n",
       "<table border=\"1\" class=\"dataframe\">\n",
       "  <thead>\n",
       "    <tr style=\"text-align: right;\">\n",
       "      <th></th>\n",
       "      <th>start_date</th>\n",
       "      <th>end_date</th>\n",
       "      <th>num_steps</th>\n",
       "      <th>tot_dist</th>\n",
       "      <th>num_floors</th>\n",
       "      <th>ft_per_step</th>\n",
       "    </tr>\n",
       "  </thead>\n",
       "  <tbody>\n",
       "    <tr>\n",
       "      <th>0</th>\n",
       "      <td>2017-02-17</td>\n",
       "      <td>2017-02-17</td>\n",
       "      <td>812.0</td>\n",
       "      <td>0.342537</td>\n",
       "      <td>1.0</td>\n",
       "      <td>2.227332</td>\n",
       "    </tr>\n",
       "    <tr>\n",
       "      <th>1</th>\n",
       "      <td>2017-02-18</td>\n",
       "      <td>2017-02-18</td>\n",
       "      <td>2668.0</td>\n",
       "      <td>1.048047</td>\n",
       "      <td>1.0</td>\n",
       "      <td>2.074097</td>\n",
       "    </tr>\n",
       "    <tr>\n",
       "      <th>2</th>\n",
       "      <td>2017-02-19</td>\n",
       "      <td>2017-02-19</td>\n",
       "      <td>2991.0</td>\n",
       "      <td>1.249733</td>\n",
       "      <td>3.0</td>\n",
       "      <td>2.206148</td>\n",
       "    </tr>\n",
       "    <tr>\n",
       "      <th>3</th>\n",
       "      <td>2017-02-20</td>\n",
       "      <td>2017-02-20</td>\n",
       "      <td>2812.0</td>\n",
       "      <td>1.178545</td>\n",
       "      <td>0.0</td>\n",
       "      <td>2.212915</td>\n",
       "    </tr>\n",
       "    <tr>\n",
       "      <th>4</th>\n",
       "      <td>2017-02-21</td>\n",
       "      <td>2017-02-21</td>\n",
       "      <td>2819.0</td>\n",
       "      <td>1.110353</td>\n",
       "      <td>1.0</td>\n",
       "      <td>2.079696</td>\n",
       "    </tr>\n",
       "  </tbody>\n",
       "</table>\n",
       "</div>"
      ],
      "text/plain": [
       "  start_date   end_date  num_steps  tot_dist  num_floors  ft_per_step\n",
       "0 2017-02-17 2017-02-17      812.0  0.342537         1.0     2.227332\n",
       "1 2017-02-18 2017-02-18     2668.0  1.048047         1.0     2.074097\n",
       "2 2017-02-19 2017-02-19     2991.0  1.249733         3.0     2.206148\n",
       "3 2017-02-20 2017-02-20     2812.0  1.178545         0.0     2.212915\n",
       "4 2017-02-21 2017-02-21     2819.0  1.110353         1.0     2.079696"
      ]
     },
     "execution_count": 4,
     "metadata": {},
     "output_type": "execute_result"
    }
   ],
   "source": [
    "combined_df.head()"
   ]
  },
  {
   "cell_type": "code",
   "execution_count": 21,
   "metadata": {
    "ExecuteTime": {
     "end_time": "2018-11-15T17:57:52.684550Z",
     "start_time": "2018-11-15T17:57:52.650817Z"
    }
   },
   "outputs": [],
   "source": [
    "week_df = get_stats_day_week_month(combined_df, 'week', 'steps')"
   ]
  },
  {
   "cell_type": "code",
   "execution_count": 22,
   "metadata": {
    "ExecuteTime": {
     "end_time": "2018-11-15T17:57:52.947772Z",
     "start_time": "2018-11-15T17:57:52.933208Z"
    }
   },
   "outputs": [],
   "source": [
    "# week_df.week_range = week_df.week_range.astype(str)"
   ]
  },
  {
   "cell_type": "code",
   "execution_count": 23,
   "metadata": {
    "ExecuteTime": {
     "end_time": "2018-11-15T17:57:53.255651Z",
     "start_time": "2018-11-15T17:57:53.238586Z"
    }
   },
   "outputs": [],
   "source": [
    "week_df.dropna(inplace=True)"
   ]
  },
  {
   "cell_type": "code",
   "execution_count": 24,
   "metadata": {
    "ExecuteTime": {
     "end_time": "2018-11-15T17:57:53.603926Z",
     "start_time": "2018-11-15T17:57:53.584180Z"
    }
   },
   "outputs": [
    {
     "data": {
      "text/plain": [
       "Index(['week_range', 'std_steps', 'std_dist', 'std_flrs', 'std_fps',\n",
       "       'mean_steps', 'mean_dist', 'mean_flrs', 'mean_fps', 'steps_score',\n",
       "       'dist_score', 'floors_score'],\n",
       "      dtype='object')"
      ]
     },
     "execution_count": 24,
     "metadata": {},
     "output_type": "execute_result"
    }
   ],
   "source": [
    "week_df.columns"
   ]
  },
  {
   "cell_type": "code",
   "execution_count": 25,
   "metadata": {
    "ExecuteTime": {
     "end_time": "2018-11-15T17:57:54.041680Z",
     "start_time": "2018-11-15T17:57:54.024496Z"
    }
   },
   "outputs": [],
   "source": [
    "grouped_df = week_df.groupby(by=['week_range'])\n",
    "src = ColumnDataSource(week_df)"
   ]
  },
  {
   "cell_type": "code",
   "execution_count": 28,
   "metadata": {
    "ExecuteTime": {
     "end_time": "2018-11-15T17:58:26.376069Z",
     "start_time": "2018-11-15T17:58:26.310598Z"
    },
    "scrolled": false
   },
   "outputs": [
    {
     "data": {
      "text/html": [
       "\n",
       "\n",
       "\n",
       "\n",
       "\n",
       "\n",
       "  <div class=\"bk-root\" id=\"66f0ec2f-8ba1-477d-a97d-d76a09f5d12a\"></div>\n"
      ]
     },
     "metadata": {},
     "output_type": "display_data"
    },
    {
     "data": {
      "application/javascript": [
       "(function(root) {\n",
       "  function embed_document(root) {\n",
       "    \n",
       "  var docs_json = {\"71f9d133-61d3-4f7d-bf0b-4ba6c501e842\":{\"roots\":{\"references\":[{\"attributes\":{\"below\":[{\"id\":\"2082\",\"type\":\"LinearAxis\"}],\"left\":[{\"id\":\"2087\",\"type\":\"LinearAxis\"}],\"plot_height\":300,\"plot_width\":800,\"renderers\":[{\"id\":\"2082\",\"type\":\"LinearAxis\"},{\"id\":\"2086\",\"type\":\"Grid\"},{\"id\":\"2087\",\"type\":\"LinearAxis\"},{\"id\":\"2091\",\"type\":\"Grid\"},{\"id\":\"2100\",\"type\":\"BoxAnnotation\"},{\"id\":\"2110\",\"type\":\"GlyphRenderer\"}],\"title\":{\"id\":\"2185\",\"type\":\"Title\"},\"toolbar\":{\"id\":\"2098\",\"type\":\"Toolbar\"},\"x_range\":{\"id\":\"2074\",\"type\":\"DataRange1d\"},\"x_scale\":{\"id\":\"2078\",\"type\":\"LinearScale\"},\"y_range\":{\"id\":\"2076\",\"type\":\"DataRange1d\"},\"y_scale\":{\"id\":\"2080\",\"type\":\"LinearScale\"}},\"id\":\"2073\",\"subtype\":\"Figure\",\"type\":\"Plot\"},{\"attributes\":{},\"id\":\"2083\",\"type\":\"BasicTicker\"},{\"attributes\":{\"plot\":{\"id\":\"2073\",\"subtype\":\"Figure\",\"type\":\"Plot\"},\"ticker\":{\"id\":\"2083\",\"type\":\"BasicTicker\"}},\"id\":\"2086\",\"type\":\"Grid\"},{\"attributes\":{\"callback\":null,\"data\":{\"dist_score\":{\"__ndarray__\":\"/cdiRNpEQUA9HWvo6Z8+QCIB7WvZaDlAt4QW+ZStNUCPNXIUzBI5QAVtqUiG5zhA3mzkfrUaN0B1133WzwQ3QFw45HEL/zVAokUV5IFUNUDqffBRpdc4QJxtLrX2yDZAS4+dsPAXNkC0xlYkZzcxQIiFJw9uvDJA2O5uXnuHM0CMSUryLREuQJ3XtzJx3S9Auyb6nTlOMECYUdQVARk0QPtU54fydTFAozLoVtUMMkAtYThBfYAyQASWX4QLEy1AlA+e8kdILkAEUA4IuCIrQEPGvbJQ6SpA0lIem/1bKUD2IhZNYrMqQBmn5Cgi2ytAbFk0zWqLKEA+vWVHw6coQA+aobYk1ypAVVIu3c+YJ0AchWtxjAkpQJG90+OjwCdAHoTsJuDtJkBSZOQmGKMnQCfWP3BloiZA13TGXAWRIUCHRRNctCwiQGkWeq6VVyNA5y2H/ArAJUACt3futxogQAf3c0IBRx9ABJbWVVaFI0BYSDqQdrMhQHLfxrT7Ch9ASEzleUhMI0Dp8AcOwDYdQFr2vtAzxR9AZWCxN92eH0AJKEqFt7IcQLpH1Ip+IRxADa82wmN4GUCxE3m5K74aQHulO9b84BxAyfg21VMTHEBYYoyn8qEaQDskxiv2YhlAQrPFIOkjE0BfJV478ygTQEGpYPnVRBFA6kL8ABWREUBLgS6m3EcTQK2WGZdyvg5AJhyBo7meDkAsv8hA7bQQQFuwDON0FhBA2iDEecSSDkDsWGgptbYLQO30NnJiHA5A6uH2PofLCkDEeXF1iqsNQK8HZzCHYQpAV4SfbwdQCUAr809Y65cIQAeA/2XJdgZAFPJCifw/BUDxOicKAhQHQKg+r9rJJwZAI3wE/og6BkAIf39nrQoFQOwkubIOTARAiZj1KJvuBEDCicqm5T4EQOoMESsmxwFAOMWHLqbr+T/eHzJTcwLvPw==\",\"dtype\":\"float64\",\"shape\":[89]},\"floors_score\":{\"__ndarray__\":\"k1vlE5dzSUDxqtTMZQ06QPR8nNohJT9ADg2RO3LHVEAGbsxqEXwaQC8i9BCJY1NAZvj1B5+uO0CasxOPya1BQNILPdQtqhBAaKBpPEOPRUAsII3M4HtSQJF2+YnPMwVAaRgiKYMyVEDs413gAiojQGFnCfuluSJAbpoVJhyRJ0ADLz03lq1HQAAAAAAAABlANd/9SfqEKECUB0iCuTIiQN7k0lsOrzpAJqCZVJkqNUAnJt/uP6/1PzkNLs2F4T1AXjzFHOYIAUAEH/3wC1c/QOsKu+wnZThAHXxtAvuRP0AuUlFpzVsnQInA/oqU6S1AAyxW4P7cA0C1Z1Fc1HYtQLcZj2AV/C1AWOlvfe7vQkDIaXlG+VJBQAaiDx6ivThAw1dIPGxIMUC7tw9xZOFKQIRvj1zSoxlAwQS3KlqM8z8JfljghApCQAqDdPqNyzFAz/qtjpkBPkDYcatr310gQLKjkZm8RiJAAn9Uc+1FLkAo29tpl2ZIQOMozCcR4DpARFZFxE+OJ0BvP9J3nr7+P7tSxONP1TBA31TgvtV7MkCkz6/YD2IVQJYwTMyY3SpAtZqYCq5zLUBUfLWUigQjQPP36/zJGz9AMLIrXGomQUC4JBPP8q3xP6zjGAB71zxAfwJhPK16IkBeeEYXD3oiQDxfI6djzgtAKh1JOccdBkAnPKsYqLUGQLUrfmKB2BBAAAAAAAAAEkBVDGOSMtUwQDZsH87FbAZAyRr7HzTbG0AnxZitBsgSQOOY54EvoRxAKjf+PeSYGUDN3UuDByEFQL07+ucG1hNASIjfyCcAE0BsBpcMfF73Pw1/ZV3fWwhAK7U8QezyBEBiUJPUCy4XQJF2+YnPMwVA9ypvE41TAUAr4aZ/4P0GQHbldRuo4hpAMp4ntB+yGEBjFt/1S8cNQKtMWOh6tvs/FqPcx+acCkAAAAAAAAAAAA==\",\"dtype\":\"float64\",\"shape\":[89]},\"index\":[0,1,2,3,4,5,6,7,8,9,10,11,12,13,14,15,16,17,18,19,20,21,22,23,24,25,26,27,28,29,30,31,32,33,34,35,36,37,38,39,40,41,42,43,44,45,46,47,48,49,50,51,52,53,54,55,56,57,58,59,60,61,62,63,64,65,66,67,68,69,70,71,72,73,74,75,76,77,78,79,80,81,82,83,84,85,86,87,88],\"mean_dist\":{\"__ndarray__\":\"9e/SFoNBDEBx8b5F6FAQQEjZR0/sDwtA+Xn/EBCeC0BFaHoeASQNQEUMl/wfaRVAQeWIqIasEkDld8F0CRUIQDf+mHkW/gRAsI9oVxVGEEBBXkFBegcOQP116Iv4mA5Arg+jxwwUE0BF9y3HAoEOQKDWw3o+7AtAaa+fhtmJEUCz3y6e5ZcNQCozVmhZUxFAtkFI+wycEEC9mR8KMuQQQHL0eEiwzQ5AE6fcV/HiDEAZwDw6LykNQN8uGMGJ7ApAiYffdWr9DUCDpvcIllsHQIUz3pL8awxAIEZh/hjXCkAKzd/UfosUQPdSvaRNTw5Aq9fSFw4bEECeOKT4daMJQO8Pmb+58gxAxfcLhQOtDEAIsQGK3B4GQDmuyE+nvAlAx/dxfBJ9FEDMD0CQ2p8RQBI4Pn32Aw1AWk4LhxQJCEDghzBGA9YIQIh+mH1RCgpAhplnJMyGCkAmucpSAogGQOmAoWRbAAlAP1N2pi2WC0BgReiq51kLQHLgn5TG6whAjT84PBCjCkCdpSgkQesHQHOdmoNCAwlAu5+hCkuCBUCyDjV9/yADQDNbSbbrhxBAR4bUG5MUBECH5V0HLwcEQFKfJUp/2AlA3Ql/nHMuCEAzlf1rTroEQEYP0iHUXQVA4rJs5M6Y+j/nwXN1GzL7P7ZXf4GpGfc/r3pToDVA8z8XikjeXK72P2B01Q0ZPv0/e+n6+Ufj9j+d/jrX+t8EQHoxCSSFa/U/AxAEbp/GBECPtYQ8i5L0P/CxUijSTv8/Gj+vlFQ29j++o5g36LPwP/N+z1T3lP8/QRoTIul3/T9OUUGM8zsAQJ+5KDIAgPg/nlArBfV67z++DK/CRDoHQKYeO9mH1fg/i77UXFAv9D9fnBiYQgb0P8NPSLbO5v0/YgWJJa45A0CLpe/wBdT2P48TIN35CfQ/1egL1GKF+j97bZEP1T/mPw==\",\"dtype\":\"float64\",\"shape\":[89]},\"mean_flrs\":{\"__ndarray__\":\"SZIkSZIkO0AAAAAAAAAiQEmSJEmSJB1A27Zt27ZtOkBu27Zt27YFQAAAAAAAADNASZIkSZIkI0C3bdu2bdsyQAAAAAAAAAhAt23btm3bHkAlSZIkSZIcQNu2bdu2bQNAkiRJkiRJGkC3bdu2bdseQEmSJEmSJBVA27Zt27ZtF0Dbtm3btm0hQAAAAAAAAARAbtu2bdu2KUAAAAAAAAAcQJIkSZIkSRpAt23btm3bHkBu27Zt27b9P9u2bdu2bRtA27Zt27Zt+z+SJEmSJEkgQJIkSZIkSRZAkiRJkiRJNECSJEmSJEkuQJIkSZIkSRJAt23btm3bBkAlSZIkSZIkQNu2bdu2bRNAkiRJkiRJMUAAAAAAAAAcQCVJkiRJkhRASZIkSZIkKUAAAAAAAAA8QNu2bdu2bRtAkiRJkiRJ8j/btm3btm01QKuqqqqqqhhAAAAAAAAAHEC3bdu2bdskQNu2bdu2bRtAJUmSJEmSIECSJEmSJEk2QLdt27Zt2yZAbtu2bdu2HUAAAAAAAAAAQEmSJEmSJCNAkiRJkiRJHkDbtm3btm0TQCVJkiRJkiZAt23btm3bKkAAAAAAAAAYQAAAAAAAADRAt23btm3bMkAlSZIkSZL0P9u2bdu2bTNASZIkSZIkCUDbtm3btm0LQCVJkiRJkgRAkiRJkiRJAkBu27Zt27b9P5IkSZIkSQpAAAAAAAAACEAAAAAAAAAaQG7btm3bthFA27Zt27ZtE0CSJEmSJEkCQG7btm3bthVASZIkSZIkEUDbtm3btm37P9u2bdu2bQtAt23btm3bDkC3bdu2bdv2P5IkSZIkSQpAAAAAAAAAAEBJkiRJkiQdQNu2bdu2bQNAbtu2bdu2BUBu27Zt27YFQAAAAAAAABBAAAAAAAAAGEC3bdu2bdsGQAAAAAAAAPA/btu2bdu2BUAAAAAAAADwPw==\",\"dtype\":\"float64\",\"shape\":[89]},\"mean_fps\":{\"__ndarray__\":\"r3U1cL6tAEAQ0xadVWIBQG+Oz+R6wQFAMndXDaN3AEBGfu4MsyQCQC1UfpmZOAJAQwfM+DVmAkBeZe80TzYDQKrJ7mYg/QFAkIBmtNZ/AkCOQipKCPoBQJKHSjrflQJAi7We+wgpAkDTF1g3dgwAQO8lZWy7yQFA36OBR4meAUAz3WY5O7QBQByDeRY2zv8/7zEHZ94fAkAmaHHwtoUCQCrBfYUwVwJA+V8UAb9oAkAzw002LpMCQIWSntpqYAFAtsqYPE+BAkDthe01R2kBQHqKE0kGcwFAGlaUGuB8AEBJJhauDzoCQB7dredrMwJAQMvhdAzNAEBRDhF+tKcBQAGeeILBJwJADp10zDdGAkCfU2LIuKwBQPpWYtyZ/wFA7Vr0/mWyAUBQ/hAP1tQCQLqdASX2dwFAgY8kHkDt/z8XYjSSDk4AQE8EWXLmaQFAvV8Vh8KTAkA1ibi60dH/P9jkZX6+x/8/QrReN7IoAkCrOKbASNgCQO+OOkCVXgBATnKWqgjbAkD9fHXVOkT/PyDGfZEtNwJAoWKZxwwDAUD8UidQiUMBQGpHwqZ5xAFAqxFurnUGAEDJ1pK6JZkBQLV2DOpbfAJA12A4lE/0AUDootKevf0BQH1rvFoyTgNAr2c3b0WhAEDKzvtsZnABQJUzxA44mwBAdZD4pu2ZAEAkzhZwLXsBQLhCGrrvwwBA1jAoTNfXAEBFClOFSoACQOcGqAw9AgFAkXIdWDGxAUCPG4zyhbkAQHrL41c6nQFADc1paAyeAECGph/+UukAQIvfYreLIAFAMrV6J1BVAUCR5FxunH0BQLphxQsXTgFA35gXlavRAEAgaB/Mt74BQH3GrKCjiQFAo2rotIGSAEADoRrkv18BQJvgxp2dAgFA1E0kbY8eAUATUu7fhVEBQN+BeM8G+QBAbeMsHUnfAEAEJ3WrqTQBQA==\",\"dtype\":\"float64\",\"shape\":[89]},\"mean_steps\":{\"__ndarray__\":\"kiRJkqR5wUC3bdu2bVzDQLdt27Ztbr9ASZIkSZJFwUBJkiRJko/AQCVJkiTJOchAJUmSJMnlxEAlSZIkSde5QG7btm3bFLhAAAAAAIAbwkDbtm3bNkjBQNu2bdu2/MBAt23btm2vxUC3bdu2bYvDQAAAAAAAKsBAJUmSJEmHxEDbtm3bNhrBQAAAAABgZcZAbtu2bVvOwkC3bdu2beHCQG7btm3bWMFA27Zt2zZCwEAlSZIkSUHAQNu2bdu25r9Abtu2bVuxwEBu27Zt26a7QNu2bdu2wsBASZIkSRLEwEBu27Zt2xvHQCVJkiRJLMFAt23btm27w0C3bdu2be29QAAAAACAgcBASZIkSRIbwECSJEmSJOC5QG7btm3bVr1Abtu2bdvKx0AAAAAAAF3DQLdt27ZtQMFAt23btm3KvkBJkiRJkiO/QKuqqqqqub5A27Zt27aDvUAAAAAAAP68QG7btm1bHsBAkiRJkiR4v0CSJEmSJMy9QEmSJEmSSr9At23btm1YvUCSJEmSJKG/QEmSJEmSVbxAkiRJkiQtukC3bdu2bb62QLdt27Zt7MJA27Zt27aduUBJkiRJklS3QLdt27Zt1LxAAAAAAADcu0CSJEmSJKe3QEmSJEmSt7ZAkiRJkiSBsECSJEmSJAWwQEmSJEmShKxAt23btm3Xp0Bu27Zt296qQAAAAAAA5LFAt23btm37q0AAAAAAADq3QJIkSZIkJapAbtu2bdsPuEBJkiRJkjSpQJIkSZIkWrJAbtu2bdt2q0AlSZIkSX6kQCVJkiRJ7rJAAAAAAAB0sUBu27Zt2y6zQG7btm3b7KxA27Zt27Yro0Bu27Zt25e6QCVJkiRJ7qxAJUmSJElMqUC3bdu2bZWnQEmSJEmS17FAt23btm03t0Dbtm3btvuqQJIkSZIkN6hAbtu2bdu+r0AAAAAAADCbQA==\",\"dtype\":\"float64\",\"shape\":[89]},\"std_dist\":{\"__ndarray__\":\"NVBpJdQd1z9n+zths2LhP2J3bHOD0tw/pRcFN5CX4T8Wm+DUDe/gP6nz/o0yaPI/NlwH36gv7j+23e521jHZP5hzJTzbCNQ/oFMgnQLV6D9dFBYYRibiPy6xT9Bei+Q/m+THt4B58D+7DVrj+gXrP1bSGFybzuQ/E0qq9VWA7z++v5aChiDtP6mzU94o1/I/7ZLLzVPr8D9M7EREq2TsP1DoPsrLK+s/i+1D8j0d5z9aWvoK8frmP0qmkYW/7ug/dZLIDkaz7T8sK7VWGRvkP8J5UURcBO4/6FX/zVdo7D/Q3IgK2p3/P/vOqV9nffA/pO3HhO8i9T/VCEgqMqnqP+kJADKuOO8/TjjqdYhs8T/4v+kTKYvjP6lpgwMc4+s/Y3dEPcZOAkBdg3rKT0j6P1wzZqMImfI/GCksVH9x8D8aznnVLPjwPzE5ppxuh/E/5nwUKAkt8D+lSi2T5oXvP81USmwX/PM/1llt/xd+8z/M1ZnXlSH1P0qW60GiAfQ/fi+fjyti8j+tns/xb5XzP5Dn+TpHsfM/GsaL3fxC7T8bOxgcP4DpP/E85Ia7bQNACW9u33+p7z8D2nQKoP/tPzNmmuaPIfc/5yFpbtfT9D9KjimG0SHwP4cE3pSp+/E/w8kuY6964j9GAEfABU3jP+cjkOKV5t4/J0i0GKsY1T+V8AQnY67aP4qyjYWE0Os/xptUTLAb4T9IhJStQBX6PzMibcIIhdw/yFf7b3Y8/D+Am7sm7IreP83/wTm4RvA/eqy2Zclp4j+ZVhCoPc7SP51TaFZy5/I/XIfHujon8T8/C5LxtG71P3pW6Ut0uOo/sGYBj2NR1z+0gpvpxmAHQD19D4wu1us/vT5+YzNU4j/pzB3Fbg7jP24mx2WDBvY/q/sYUWGoAUBXBKJne73pP6k33m9rluY/Zr91Ta8i+z/WEAzBgu3fPw==\",\"dtype\":\"float64\",\"shape\":[89]},\"std_flrs\":{\"__ndarray__\":\"79bYXlPyLECIbuaifd8IQKtlxAr2RPs/ACs3Y5nOIEDkeuOpm83xP0Gk/Ol1nhJAn5slt7p5CkDqGeyMLB0kQEMMxIYvSAFAXxUvXgQV9j9fFS9eBBXmP+R646mbzQFAKiRg5c4a4T8K+PTppNcYQBnOxNVn3wdArjEsuoZKB0A+NhBYNqj5PwAAAAAAAPA/VJMXaKT3KkDz2aikaIoVQI0MOQXA5Pk/HxL1Hwl+BkBxY5L/0lsEQFUsqV5uLfk/XxUvXgQV9j9Gw5Gd9OwAQHFjkv/SW/Q/3up0BssRKkAhoY0sMKIzQDwRjVo+W/Y/XyVJtmFNCkBhdudBrbkcQFQsqV5uLfk/GUVxfnOOH0DNO39mnqD2PyokYOXOGvE/8NFpmudJIkDkcnN1iyotQNkbL6mMVx1AKiRg5c4a8T+SagD+vHMpQIjxHOeGGAFAPiwMcL0g+j8rmyP3YZQqQFEDnHf+lBRA7fn9bG0kEkA3l5xioFokQMZQRPGUcBNABg1F7si9EkCxN+eAQKcAQEqVvV30xBVAVO7DtcnPCEA5womhGacRQKt8ehWw9iJAI+i5xLJ9KEBgCCFVmkkOQKuxlh9mtylAYPlq6vC7JECl4Sx3ue/3PyvQ9RzcLCpAKiRg5c4a8T9wY5L/0lv0P/P/enIlcP4/4PVRYLY8/j/GUETxlHDzP/93jq8BggRAAAAAAAAAAEA6BpxvcBQEQJ/hEiOE/BtA7krroekZC0DkeuOpm83xPxifNIwkeBBAUFl0ui/2BkDjeuOpm83xP6t8ehWw9gJApHuxXl4OCUA8EY1aPlv2P+lJkZBuXQxAsSgcTL5w+D8eOBWG5VEiQOR646mbzQFA4/Z8I6Q2C0D+d46vAYIEQImCcxM3CwNAoqOzDeVSF0DycvBuZIsBQBwzkEWneeI/n9wmwKS3AUAAAAAAAAAAAA==\",\"dtype\":\"float64\",\"shape\":[89]},\"std_fps\":{\"__ndarray__\":\"oaW07JXXpD9nqarEVFutP6tMnk4Ejr4/fVdLEvrWtj9IfVoaWXypP4el99xKcbU/2xIrNxu2uD9FgJoWo5CwP5h4253S/bk/bK5Fc45otz/zc6zvkTSxPzAbdOUHJ6s/9g9oFviZsT+CsVDBn1qqP59vHKczXLU/Wr4cOfYBuD+l21SHKLnAP2x/Yg/gEa4/6K6P+v+cuD+nswNaGxC3PxAqEC4yy7A/SZO0CT5+tT86gGck/Iy7PzGZdV9ulas/SMLWxjkVtj/2yZimub61PzL17FiHo6c/n6BG80kSpj/+sGdnYWqwP8CeM4UvLLA/XMXDmVd5sD+oQ4L0QnuqPw7abge0D6k/ddZFzG4Yvz+apsqgVSW4P6I4Dsq4JrE/cEyxmcvSsT+8pC/B4kezP/iTlo35W7Y/xN3UdRnFwj8i6uJc52q1P1Vvzq1bZr0/eIlKpaWjrj/GDOWlkQe0PyGTU7d7uLM/vvN8Q5NYqj9dPSY07JisP1XZpj9eork/M8IByIEasT/dyZjZPY6xP5kGvs5kRLw/hEDLaDX2qz+zZ792Ila5P/g5QnrX87U/014T6YagtT/qyIxtKJGxPyvjXBE2iLM/FIbLwzClsD85dNpd6GG5P7+hdA3xz7E/jqjDHz4ZoD9Ml0An2hWuP5HWcKpIf7E/DS7DQTgsrD+Dfp4GccmzPzM+uBPQxrA/4ge3Ukp9qz9mUqeCcJ2xP7yfFg+e0q8/7Wzi/KVjsD+VKQs1j2a0PwZZlfdaYbA/eyylECPtoD9YkpxsS6+vP0+dou9MS64/lbN7iU8Ctj8FKpCVxIalP37MlowlgbA/xpRM4fpbtD9tslxn45+sPwCxtN7ZMbA/YcS1iDDkrD9Qkc++Ey2zP9YCFFaB9Lc/BrkQPWFrsD/du1zMfgS6P7p9q6ov/L0/KU+U55iouD+ML+JyCr27Pw==\",\"dtype\":\"float64\",\"shape\":[89]},\"std_steps\":{\"__ndarray__\":\"EhMLZpLsjEDyeLvLljWUQNlWlniPjY5AM6Pzv17wk0CBxPl0x6eSQEQkdvEtNqRA8PMr1pwin0AV8SYXaEiJQCNw1RXFU4ZAEXGwY/Y/mUB0nNMwyWSXQJ0h+D845JZAphWK0Wwbo0CDeeniUrSfQMwbO3D/jZZA1DjSkOdiokAPI6rbV7SZQIYAHWrCa6ZA0TJleIPQoEC3xo9YN0uhQKqkff2HjZ9A7etmjdWinEB2IYr1bOCcQORNOkKie5xAcx8i98ayn0B4DOSHz/SWQPxsQrBuHKFAO/OpYp12oUCw72ztY/+wQBYWSJtQyqJAiu5sJhxJqUAyyJ2ofUGeQIhnaVnT0qJAvXFkyhwkokCaON4KyqKXQKsFYdr7bZ5A5u3wV+6ntEB+okxOGc2sQCq6Fy3T5aZAWs6zrqOookDdudAyogOkQMuXo/LMtaNAIHFRdQVRokDoco29zdWiQPPc+cr2iKdAnKje8KB1pkAHItxLa+OlQCHvvXbQdahA3GlJSt7epUDx+5EPC06qQK+yCtAkxaVAk/cgHWWaokDbANt42N2cQAZ8V/gcKLVA3tvz92R4o0Bzp3qkyVigQI2Ie+vwPKlAbv/4ndEKqECK0CZTCg+iQExvIP8ZvqJA8TgxA/Mml0AHKLwqBuqVQGu6dOqzf5FAUFdujj8piUBAtzRzHqaQQIYV5wPQnKBAhfWb/jSElEAemKCYkWitQBZ9lnQwtJJAvFLdwCHor0C+ASWbK/uRQOw9b6iaOaNAH8Gxxj4glkBxsT2s/72IQD5jRaCBJqZA0VMv93jro0Cvnuos/1KpQLsEQQOjMZ5A8QHfKp6IikAJNmA8NFe6QDxbDJhJXp9AuL/bZ+YymECyD7WQFw2VQHJ5nxwkrqhARBnFTLOrtUDhmqq50LOdQK7w3HJRGZtAwA8M1Tpbr0AxTuOMj4GUQA==\",\"dtype\":\"float64\",\"shape\":[89]},\"steps_score\":{\"__ndarray__\":\"y2RKgbUd9UAWCXQkYozyQBm4tnzhKvBAhsI4zjfs7UCkuO9tImftQNXB7TV6Ce1AP+NkpW4N7EAjBkujUWnqQKeWg6k6+elAplkanoL46UAfN/VRxojpQPXeK80hNulA0TIHoHyc6EB+BIBB4BjoQD+zrHoWK+dAABNAcI7r5kDgvyAqEcLmQCKXSmf/XuZAmRasr5YI5UC+Nt6O6ZzkQBglJ+n6EuNAm5G7dVh24kChuHFD4EziQM/coEJo3eFApHA9RNKU4UD0L1auYqfgQMuFW3HVauBASPM+mKgY4EC+6XEBzWrfQAPT/fbIY99A+C3FjfrL3kCO48FTR5rdQOwK1Ad18txA96/n3PmY3EAfQXte01PcQDfsxGS7SdxAPjCHWLNn20BghyE9RQnaQL9Bmbfe/tlAI+Kuj85n2UB9CZoiQjnYQHbiV5K28tdA77mljn/H10Dm5YDAL1DWQNBJlVwXFNZAL9QFv/cL1kAOOt6+PEjUQFoDC9TaA9RA8/2bx/+v00AATo98FATTQDh+EMJXcNJAor7AopJq0kA9SCKcd+vRQGiQLjUW7dBAJHQwXNPZ0ECCId2pDqbQQA97aOhid9BAf67Unikk0EBIoXcA4PrOQBUXMXzNiMtAXxFn/fOHx0BZaTyBL2zHQOp/2NXePMdAdG2NhlOXxkCOP7bzEq/FQHqKkQFcRMNAD1DjwA8Vw0CwCZS/GVjCQD9BalL8RcJAa0Sv31klwkCIgLwQgKrBQAloAOHThMFAOgHIf5gLwUBwvjaHXPnAQPrv5QveLcBAfA78VnKVvkDmrQ7T7Q+9QHhnaFO5tbtA1MTXYrezu0CTjPNPIdm6QDfmhszFrrpA6C9S2nNyukDvKFJww2u6QFebpcUQzLlAY+vGgmLfuEDFUUS1VoO4QIj645+Do7VA6tGOSNwRsEC6x9Mq3wWiQA==\",\"dtype\":\"float64\",\"shape\":[89]},\"week_range\":[\"2018-08-19 to 2018-08-25\",\"2017-12-03 to 2017-12-09\",\"2017-10-15 to 2017-10-21\",\"2018-08-12 to 2018-08-18\",\"2018-04-15 to 2018-04-21\",\"2018-07-15 to 2018-07-21\",\"2017-12-10 to 2017-12-16\",\"2018-06-17 to 2018-06-23\",\"2018-05-06 to 2018-05-12\",\"2017-12-17 to 2017-12-23\",\"2017-09-17 to 2017-09-23\",\"2018-05-20 to 2018-05-26\",\"2018-01-28 to 2018-02-03\",\"2018-09-16 to 2018-09-22\",\"2018-03-04 to 2018-03-10\",\"2018-03-25 to 2018-03-31\",\"2017-11-26 to 2017-12-02\",\"2018-10-21 to 2018-10-27\",\"2017-12-24 to 2017-12-30\",\"2018-03-18 to 2018-03-24\",\"2018-02-18 to 2018-02-24\",\"2018-03-11 to 2018-03-17\",\"2018-05-13 to 2018-05-19\",\"2017-11-12 to 2017-11-18\",\"2018-04-22 to 2018-04-28\",\"2017-10-29 to 2017-11-04\",\"2017-11-19 to 2017-11-25\",\"2018-08-05 to 2018-08-11\",\"2018-05-27 to 2018-06-02\",\"2018-02-04 to 2018-02-10\",\"2018-10-14 to 2018-10-20\",\"2017-10-22 to 2017-10-28\",\"2018-01-21 to 2018-01-27\",\"2018-06-24 to 2018-06-30\",\"2017-10-08 to 2017-10-14\",\"2018-01-14 to 2018-01-20\",\"2017-06-25 to 2017-07-01\",\"2018-07-08 to 2018-07-14\",\"2018-04-08 to 2018-04-14\",\"2018-09-30 to 2018-10-06\",\"2018-07-29 to 2018-08-04\",\"2017-12-31 to 2018-01-06\",\"2018-02-25 to 2018-03-03\",\"2018-09-23 to 2018-09-29\",\"2018-09-09 to 2018-09-15\",\"2018-02-11 to 2018-02-17\",\"2018-06-10 to 2018-06-16\",\"2018-09-02 to 2018-09-08\",\"2018-01-07 to 2018-01-13\",\"2018-10-07 to 2018-10-13\",\"2017-10-01 to 2017-10-07\",\"2017-11-05 to 2017-11-11\",\"2017-08-13 to 2017-08-19\",\"2018-04-01 to 2018-04-07\",\"2018-08-26 to 2018-09-01\",\"2017-07-23 to 2017-07-29\",\"2018-07-01 to 2018-07-07\",\"2018-07-22 to 2018-07-28\",\"2018-04-29 to 2018-05-05\",\"2018-06-03 to 2018-06-09\",\"2017-04-09 to 2017-04-15\",\"2017-06-18 to 2017-06-24\",\"2017-03-12 to 2017-03-18\",\"2017-04-23 to 2017-04-29\",\"2017-02-19 to 2017-02-25\",\"2017-04-16 to 2017-04-22\",\"2017-03-26 to 2017-04-01\",\"2017-09-24 to 2017-09-30\",\"2017-08-20 to 2017-08-26\",\"2017-08-27 to 2017-09-02\",\"2017-03-19 to 2017-03-25\",\"2017-07-16 to 2017-07-22\",\"2017-04-02 to 2017-04-08\",\"2017-02-26 to 2017-03-04\",\"2017-06-04 to 2017-06-10\",\"2017-06-11 to 2017-06-17\",\"2017-09-10 to 2017-09-16\",\"2017-08-06 to 2017-08-12\",\"2017-05-07 to 2017-05-13\",\"2017-07-09 to 2017-07-15\",\"2017-07-30 to 2017-08-05\",\"2017-04-30 to 2017-05-06\",\"2017-09-03 to 2017-09-09\",\"2017-05-28 to 2017-06-03\",\"2017-07-02 to 2017-07-08\",\"2017-05-21 to 2017-05-27\",\"2017-03-05 to 2017-03-11\",\"2017-05-14 to 2017-05-20\",\"2017-02-12 to 2017-02-18\"]},\"selected\":{\"id\":\"1853\",\"type\":\"Selection\"},\"selection_policy\":{\"id\":\"1852\",\"type\":\"UnionRenderers\"}},\"id\":\"1751\",\"type\":\"ColumnDataSource\"},{\"attributes\":{\"formatter\":{\"id\":\"2186\",\"type\":\"BasicTickFormatter\"},\"plot\":{\"id\":\"2073\",\"subtype\":\"Figure\",\"type\":\"Plot\"},\"ticker\":{\"id\":\"2088\",\"type\":\"BasicTicker\"}},\"id\":\"2087\",\"type\":\"LinearAxis\"},{\"attributes\":{\"formatter\":{\"id\":\"2188\",\"type\":\"BasicTickFormatter\"},\"plot\":{\"id\":\"2073\",\"subtype\":\"Figure\",\"type\":\"Plot\"},\"ticker\":{\"id\":\"2083\",\"type\":\"BasicTicker\"}},\"id\":\"2082\",\"type\":\"LinearAxis\"},{\"attributes\":{},\"id\":\"2088\",\"type\":\"BasicTicker\"},{\"attributes\":{\"callback\":null},\"id\":\"2074\",\"type\":\"DataRange1d\"},{\"attributes\":{\"source\":{\"id\":\"1751\",\"type\":\"ColumnDataSource\"}},\"id\":\"2111\",\"type\":\"CDSView\"},{\"attributes\":{\"dimension\":1,\"plot\":{\"id\":\"2073\",\"subtype\":\"Figure\",\"type\":\"Plot\"},\"ticker\":{\"id\":\"2088\",\"type\":\"BasicTicker\"}},\"id\":\"2091\",\"type\":\"Grid\"},{\"attributes\":{\"fill_alpha\":{\"value\":0.1},\"fill_color\":{\"value\":\"#1f77b4\"},\"line_alpha\":{\"value\":0.1},\"line_color\":{\"value\":\"#1f77b4\"},\"x\":{\"field\":\"index\"},\"y\":{\"field\":\"mean_dist\"}},\"id\":\"2109\",\"type\":\"Circle\"},{\"attributes\":{\"fill_color\":{\"value\":\"#1f77b4\"},\"line_color\":{\"value\":\"#1f77b4\"},\"x\":{\"field\":\"index\"},\"y\":{\"field\":\"mean_dist\"}},\"id\":\"2108\",\"type\":\"Circle\"},{\"attributes\":{\"active_drag\":\"auto\",\"active_inspect\":\"auto\",\"active_multi\":null,\"active_scroll\":\"auto\",\"active_tap\":\"auto\",\"tools\":[{\"id\":\"2092\",\"type\":\"PanTool\"},{\"id\":\"2093\",\"type\":\"WheelZoomTool\"},{\"id\":\"2094\",\"type\":\"BoxZoomTool\"},{\"id\":\"2095\",\"type\":\"SaveTool\"},{\"id\":\"2096\",\"type\":\"ResetTool\"},{\"id\":\"2097\",\"type\":\"HelpTool\"}]},\"id\":\"2098\",\"type\":\"Toolbar\"},{\"attributes\":{},\"id\":\"2092\",\"type\":\"PanTool\"},{\"attributes\":{},\"id\":\"1853\",\"type\":\"Selection\"},{\"attributes\":{\"callback\":null},\"id\":\"2076\",\"type\":\"DataRange1d\"},{\"attributes\":{},\"id\":\"2093\",\"type\":\"WheelZoomTool\"},{\"attributes\":{},\"id\":\"1852\",\"type\":\"UnionRenderers\"},{\"attributes\":{\"overlay\":{\"id\":\"2100\",\"type\":\"BoxAnnotation\"}},\"id\":\"2094\",\"type\":\"BoxZoomTool\"},{\"attributes\":{},\"id\":\"2080\",\"type\":\"LinearScale\"},{\"attributes\":{},\"id\":\"2095\",\"type\":\"SaveTool\"},{\"attributes\":{},\"id\":\"2078\",\"type\":\"LinearScale\"},{\"attributes\":{},\"id\":\"2096\",\"type\":\"ResetTool\"},{\"attributes\":{},\"id\":\"2097\",\"type\":\"HelpTool\"},{\"attributes\":{},\"id\":\"2186\",\"type\":\"BasicTickFormatter\"},{\"attributes\":{\"plot\":null,\"text\":\"\"},\"id\":\"2185\",\"type\":\"Title\"},{\"attributes\":{\"bottom_units\":\"screen\",\"fill_alpha\":{\"value\":0.5},\"fill_color\":{\"value\":\"lightgrey\"},\"left_units\":\"screen\",\"level\":\"overlay\",\"line_alpha\":{\"value\":1.0},\"line_color\":{\"value\":\"black\"},\"line_dash\":[4,4],\"line_width\":{\"value\":2},\"plot\":null,\"render_mode\":\"css\",\"right_units\":\"screen\",\"top_units\":\"screen\"},\"id\":\"2100\",\"type\":\"BoxAnnotation\"},{\"attributes\":{\"data_source\":{\"id\":\"1751\",\"type\":\"ColumnDataSource\"},\"glyph\":{\"id\":\"2108\",\"type\":\"Circle\"},\"hover_glyph\":null,\"muted_glyph\":null,\"nonselection_glyph\":{\"id\":\"2109\",\"type\":\"Circle\"},\"selection_glyph\":null,\"view\":{\"id\":\"2111\",\"type\":\"CDSView\"}},\"id\":\"2110\",\"type\":\"GlyphRenderer\"},{\"attributes\":{},\"id\":\"2188\",\"type\":\"BasicTickFormatter\"}],\"root_ids\":[\"2073\"]},\"title\":\"Bokeh Application\",\"version\":\"1.0.1\"}};\n",
       "  var render_items = [{\"docid\":\"71f9d133-61d3-4f7d-bf0b-4ba6c501e842\",\"roots\":{\"2073\":\"66f0ec2f-8ba1-477d-a97d-d76a09f5d12a\"}}];\n",
       "  root.Bokeh.embed.embed_items_notebook(docs_json, render_items);\n",
       "\n",
       "  }\n",
       "  if (root.Bokeh !== undefined) {\n",
       "    embed_document(root);\n",
       "  } else {\n",
       "    var attempts = 0;\n",
       "    var timer = setInterval(function(root) {\n",
       "      if (root.Bokeh !== undefined) {\n",
       "        embed_document(root);\n",
       "        clearInterval(timer);\n",
       "      }\n",
       "      attempts++;\n",
       "      if (attempts > 100) {\n",
       "        console.log(\"Bokeh: ERROR: Unable to run BokehJS code because BokehJS library is missing\");\n",
       "        clearInterval(timer);\n",
       "      }\n",
       "    }, 10, root)\n",
       "  }\n",
       "})(window);"
      ],
      "application/vnd.bokehjs_exec.v0+json": ""
     },
     "metadata": {
      "application/vnd.bokehjs_exec.v0+json": {
       "id": "2073"
      }
     },
     "output_type": "display_data"
    }
   ],
   "source": [
    "p = figure(plot_width=800, plot_height=300)\n",
    "p.circle('index', 'mean_dist', source=src)\n",
    "show(p)"
   ]
  },
  {
   "cell_type": "code",
   "execution_count": null,
   "metadata": {},
   "outputs": [],
   "source": []
  },
  {
   "cell_type": "code",
   "execution_count": null,
   "metadata": {
    "ExecuteTime": {
     "end_time": "2018-11-15T17:48:38.725770Z",
     "start_time": "2018-11-15T17:48:38.702600Z"
    }
   },
   "outputs": [],
   "source": [
    "from IPython import __version__ as ipython_version\n",
    "from pandas import __version__ as pandas_version\n",
    "from bokeh import __version__ as bokeh_version\n",
    "print(\"IPython - %s\" % ipython_version)\n",
    "print(\"Pandas - %s\" % pandas_version)\n",
    "print(\"Bokeh - %s\" % bokeh_version)"
   ]
  },
  {
   "cell_type": "code",
   "execution_count": null,
   "metadata": {},
   "outputs": [],
   "source": []
  }
 ],
 "metadata": {
  "kernelspec": {
   "display_name": "Python 3",
   "language": "python",
   "name": "python3"
  },
  "language_info": {
   "codemirror_mode": {
    "name": "ipython",
    "version": 3
   },
   "file_extension": ".py",
   "mimetype": "text/x-python",
   "name": "python",
   "nbconvert_exporter": "python",
   "pygments_lexer": "ipython3",
   "version": "3.6.6"
  },
  "latex_envs": {
   "LaTeX_envs_menu_present": true,
   "autoclose": false,
   "autocomplete": true,
   "bibliofile": "biblio.bib",
   "cite_by": "apalike",
   "current_citInitial": 1,
   "eqLabelWithNumbers": true,
   "eqNumInitial": 1,
   "hotkeys": {
    "equation": "Ctrl-E",
    "itemize": "Ctrl-I"
   },
   "labels_anchors": false,
   "latex_user_defs": false,
   "report_style_numbering": false,
   "user_envs_cfg": false
  }
 },
 "nbformat": 4,
 "nbformat_minor": 2
}
